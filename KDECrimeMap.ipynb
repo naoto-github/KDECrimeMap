{
 "cells": [
  {
   "cell_type": "code",
   "execution_count": 72,
   "metadata": {},
   "outputs": [],
   "source": [
    "import pandas as pd\n",
    "import geopandas as gpd\n",
    "import folium\n",
    "import matplotlib.pyplot as plt\n",
    "import json\n",
    "import numpy as np\n",
    "import itertools\n",
    "from scipy.stats import gaussian_kde\n",
    "from shapely.geometry import Point\n",
    "from shapely.geometry import Polygon\n",
    "from sklearn.preprocessing import MinMaxScaler"
   ]
  },
  {
   "cell_type": "code",
   "execution_count": 53,
   "metadata": {},
   "outputs": [
    {
     "name": "stdout",
     "output_type": "stream",
     "text": [
      "45456\n"
     ]
    }
   ],
   "source": [
    "crime_gdf = gpd.read_file(\"./geojson/aichi-crime-2020.geojson\")\n",
    "print(len(crime_gdf))"
   ]
  },
  {
   "cell_type": "code",
   "execution_count": 54,
   "metadata": {},
   "outputs": [
    {
     "name": "stdout",
     "output_type": "stream",
     "text": [
      "39351\n"
     ]
    }
   ],
   "source": [
    "# 信頼度0.8以上に限定\n",
    "crime_gdf = crime_gdf[crime_gdf[\"relevance\"] > 0.8]\n",
    "print(len(crime_gdf))"
   ]
  },
  {
   "cell_type": "code",
   "execution_count": 55,
   "metadata": {},
   "outputs": [],
   "source": [
    "# 直交座標系に変換\n",
    "crime_gdf = crime_gdf.to_crs(epsg=6675)"
   ]
  },
  {
   "cell_type": "code",
   "execution_count": 56,
   "metadata": {},
   "outputs": [
    {
     "data": {
      "text/plain": [
       "<matplotlib.axes._subplots.AxesSubplot at 0x12d0c9f40>"
      ]
     },
     "execution_count": 56,
     "metadata": {},
     "output_type": "execute_result"
    },
    {
     "data": {
      "image/png": "[encoded data removed]",
      "text/plain": [
       "<Figure size 432x288 with 1 Axes>"
      ]
     },
     "metadata": {
      "needs_background": "light"
     },
     "output_type": "display_data"
    }
   ],
   "source": [
    "crime_gdf[crime_gdf[\"relevance\"] > 0.8].plot()"
   ]
  },
  {
   "cell_type": "markdown",
   "metadata": {},
   "source": [
    "## サンプルデータでカーネル密度推定"
   ]
  },
  {
   "cell_type": "code",
   "execution_count": 57,
   "metadata": {},
   "outputs": [
    {
     "data": {
      "text/plain": [
       "<matplotlib.axes._subplots.AxesSubplot at 0x12cc7ab20>"
      ]
     },
     "execution_count": 57,
     "metadata": {},
     "output_type": "execute_result"
    },
    {
     "data": {
      "image/png": "[encoded data removed]",
      "text/plain": [
       "<Figure size 432x288 with 1 Axes>"
      ]
     },
     "metadata": {
      "needs_background": "light"
     },
     "output_type": "display_data"
    }
   ],
   "source": [
    "# サンプルを抽出(n=100)\n",
    "n_sample = 100\n",
    "sample_gdf = crime_gdf.sample(n_sample)\n",
    "#display(sample_gdf)\n",
    "sample_gdf.plot()"
   ]
  },
  {
   "cell_type": "code",
   "execution_count": 58,
   "metadata": {},
   "outputs": [
    {
     "name": "stdout",
     "output_type": "stream",
     "text": [
      "(2, 100)\n"
     ]
    }
   ],
   "source": [
    "# 2次元配列に反感\n",
    "coord_list= []\n",
    "for g in sample_gdf[\"geometry\"].values:\n",
    "    coord_list.append(list(g.coords)[0])\n",
    "\n",
    "coord_list = np.array(coord_list)\n",
    "coord_list = np.transpose(coord_list)\n",
    "\n",
    "print(coord_list.shape)"
   ]
  },
  {
   "cell_type": "code",
   "execution_count": 59,
   "metadata": {},
   "outputs": [],
   "source": [
    "# カーネル密度推定\n",
    "bw_method = \"scott\"\n",
    "#bw_method = \"silverman\"\n",
    "\n",
    "kde = gaussian_kde(coord_list, bw_method=bw_method)"
   ]
  },
  {
   "cell_type": "code",
   "execution_count": 60,
   "metadata": {},
   "outputs": [
    {
     "name": "stdout",
     "output_type": "stream",
     "text": [
      "(2, 3)\n"
     ]
    },
    {
     "data": {
      "text/plain": [
       "array([2.09518176e-64, 5.27371056e-67, 1.21104515e-09])"
      ]
     },
     "execution_count": 60,
     "metadata": {},
     "output_type": "execute_result"
    }
   ],
   "source": [
    "# 任意のデータを外挿\n",
    "target_geometry = np.array([(0, 0), (1000, 1000), (-20000, -90000)])\n",
    "target_geometry = np.transpose(target_geometry)\n",
    "print(target_geometry.shape)\n",
    "kde.evaluate(target_geometry)"
   ]
  },
  {
   "cell_type": "markdown",
   "metadata": {},
   "source": [
    "## 全データでカーネル密度推定"
   ]
  },
  {
   "cell_type": "code",
   "execution_count": 61,
   "metadata": {},
   "outputs": [
    {
     "name": "stdout",
     "output_type": "stream",
     "text": [
      "(2, 39351)\n"
     ]
    }
   ],
   "source": [
    "# 2次元配列に反感\n",
    "coord_list= []\n",
    "for g in crime_gdf[\"geometry\"].values:\n",
    "    coord_list.append(list(g.coords)[0])\n",
    "\n",
    "coord_list = np.array(coord_list)\n",
    "coord_list = np.transpose(coord_list)\n",
    "\n",
    "print(coord_list.shape)"
   ]
  },
  {
   "cell_type": "code",
   "execution_count": 62,
   "metadata": {},
   "outputs": [],
   "source": [
    "# カーネル密度推定\n",
    "bw_method = \"scott\"\n",
    "#bw_method = \"silverman\"\n",
    "\n",
    "kde = gaussian_kde(coord_list, bw_method=bw_method)"
   ]
  },
  {
   "cell_type": "code",
   "execution_count": 63,
   "metadata": {},
   "outputs": [
    {
     "name": "stdout",
     "output_type": "stream",
     "text": [
      "(2, 3)\n"
     ]
    },
    {
     "data": {
      "text/plain": [
       "array([0.0000000e+00, 0.0000000e+00, 1.9002447e-09])"
      ]
     },
     "execution_count": 63,
     "metadata": {},
     "output_type": "execute_result"
    }
   ],
   "source": [
    "# 任意のデータを外挿\n",
    "target_geometry = np.array([(0, 0), (1000, 1000), (-20000, -90000)])\n",
    "target_geometry = np.transpose(target_geometry)\n",
    "print(target_geometry.shape)\n",
    "kde.evaluate(target_geometry)"
   ]
  },
  {
   "cell_type": "markdown",
   "metadata": {},
   "source": [
    "## ヒートマップの生成"
   ]
  },
  {
   "cell_type": "code",
   "execution_count": 64,
   "metadata": {},
   "outputs": [
    {
     "name": "stdout",
     "output_type": "stream",
     "text": [
      "(2, 10000)\n"
     ]
    }
   ],
   "source": [
    "n_split = 100 # 1000x1000に分割\n",
    "min_x = np.min(coord_list[0])\n",
    "max_x = np.max(coord_list[0])\n",
    "min_y = np.min(coord_list[1])\n",
    "max_y = np.max(coord_list[1])\n",
    "x_range = np.linspace(min_x, max_x, n_split)\n",
    "y_range = np.linspace(min_y, max_y, n_split)\n",
    "\n",
    "target_geometry = []\n",
    "for x, y in itertools.product(x_range, y_range):\n",
    "    target_geometry.append((x, y))\n",
    "\n",
    "target_geometry = np.array(target_geometry)\n",
    "target_geometry = np.transpose(target_geometry)\n",
    "    \n",
    "print(target_geometry.shape)"
   ]
  },
  {
   "cell_type": "code",
   "execution_count": 65,
   "metadata": {},
   "outputs": [
    {
     "name": "stdout",
     "output_type": "stream",
     "text": [
      "10000\n"
     ]
    }
   ],
   "source": [
    "density_list = kde.evaluate(target_geometry)\n",
    "print(len(density_list))"
   ]
  },
  {
   "cell_type": "code",
   "execution_count": 106,
   "metadata": {},
   "outputs": [
    {
     "name": "stdout",
     "output_type": "stream",
     "text": [
      "[0.05251544 0.09237738 0.13193312 ... 0.08902227 0.0450516  0.        ]\n"
     ]
    }
   ],
   "source": [
    "log_density_list = np.log(density_list)\n",
    "\n",
    "mmscaler = MinMaxScaler(feature_range=(0, 1))\n",
    "log_density_list = log_density_list.reshape(-1, 1)\n",
    "mmscaler.fit(log_density_list)\n",
    "alpha = mmscaler.transform(log_density_list)\n",
    "alpha_list = alpha.reshape(1, -1)[0]\n",
    "print(alpha_list)"
   ]
  },
  {
   "cell_type": "code",
   "execution_count": 107,
   "metadata": {},
   "outputs": [
    {
     "name": "stdout",
     "output_type": "stream",
     "text": [
      "(2, 10000)\n"
     ]
    }
   ],
   "source": [
    "target_geometry = np.transpose(target_geometry)\n",
    "print(target_geometry.shape)"
   ]
  },
  {
   "cell_type": "code",
   "execution_count": 108,
   "metadata": {},
   "outputs": [
    {
     "name": "stdout",
     "output_type": "stream",
     "text": [
      "length_x=814.7826140213074 length_y=904.5823187090282\n"
     ]
    },
    {
     "ename": "ValueError",
     "evalue": "too many values to unpack (expected 2)",
     "output_type": "error",
     "traceback": [
      "\u001b[0;31m---------------------------------------------------------------------------\u001b[0m",
      "\u001b[0;31mValueError\u001b[0m                                Traceback (most recent call last)",
      "\u001b[0;32m<ipython-input-108-d57aed925803>\u001b[0m in \u001b[0;36m<module>\u001b[0;34m\u001b[0m\n\u001b[1;32m     13\u001b[0m \u001b[0;34m\u001b[0m\u001b[0m\n\u001b[1;32m     14\u001b[0m \u001b[0mfeatures\u001b[0m \u001b[0;34m=\u001b[0m \u001b[0;34m[\u001b[0m\u001b[0;34m]\u001b[0m\u001b[0;34m\u001b[0m\u001b[0;34m\u001b[0m\u001b[0m\n\u001b[0;32m---> 15\u001b[0;31m \u001b[0;32mfor\u001b[0m \u001b[0;34m(\u001b[0m\u001b[0mx\u001b[0m\u001b[0;34m,\u001b[0m\u001b[0my\u001b[0m\u001b[0;34m)\u001b[0m\u001b[0;34m,\u001b[0m\u001b[0mdensity\u001b[0m\u001b[0;34m,\u001b[0m\u001b[0malpha\u001b[0m \u001b[0;32min\u001b[0m \u001b[0mzip\u001b[0m\u001b[0;34m(\u001b[0m\u001b[0mtarget_geometry\u001b[0m\u001b[0;34m,\u001b[0m \u001b[0mdensity_list\u001b[0m\u001b[0;34m,\u001b[0m \u001b[0malpha_list\u001b[0m\u001b[0;34m)\u001b[0m\u001b[0;34m:\u001b[0m\u001b[0;34m\u001b[0m\u001b[0;34m\u001b[0m\u001b[0m\n\u001b[0m\u001b[1;32m     16\u001b[0m     \u001b[0;31m#print(f\"{x} {y} {density}\")\u001b[0m\u001b[0;34m\u001b[0m\u001b[0;34m\u001b[0m\u001b[0;34m\u001b[0m\u001b[0m\n\u001b[1;32m     17\u001b[0m \u001b[0;34m\u001b[0m\u001b[0m\n",
      "\u001b[0;31mValueError\u001b[0m: too many values to unpack (expected 2)"
     ]
    }
   ],
   "source": [
    "# GeoJSONに変換\n",
    "geojson = {\n",
    "    \"type\": \"FeatureCollection\",\n",
    "    \"features\": []\n",
    "}\n",
    "\n",
    "# ポリゴンの1辺の距離\n",
    "length_x = np.abs(x_range[1] - x_range[0])\n",
    "length_y = np.abs(y_range[1] - y_range[0])\n",
    "radius_x = length_x / 2\n",
    "radius_y = length_y / 2\n",
    "print(f\"length_x={length_x} length_y={length_y}\")\n",
    "\n",
    "features = []\n",
    "for (x,y),density,alpha in zip(target_geometry, density_list, alpha_list):\n",
    "    #print(f\"{x} {y} {density}\")\n",
    "\n",
    "    feature = {\n",
    "        \"type\": \"Feature\",\n",
    "        \"geometry\": {\n",
    "            \"type\": \"Polygon\",\n",
    "            \"coordinates\": [[[x-radius_x,  y-radius_y],[x+radius_x, y-radius_y],[x+radius_x, y+radius_y],[x-radius_x,  y+radius_y],[x-radius_x,  y-radius_y]]],\n",
    "        },\n",
    "        \"properties\": {\n",
    "            \"density\": density,\n",
    "            \"alpha\": alpha\n",
    "        }\n",
    "    }\n",
    "    \n",
    "    features.append(feature)\n",
    "    \n",
    "geojson[\"features\"] = features\n",
    "print(geojson[\"features\"][0])"
   ]
  },
  {
   "cell_type": "code",
   "execution_count": 88,
   "metadata": {},
   "outputs": [],
   "source": [
    "# GeoJSONファイルを書込\n",
    "with open(\"./geojson/crime-density-2020.geojson\", \"w\") as f:\n",
    "    json.dump(geojson, f, ensure_ascii=False)"
   ]
  },
  {
   "cell_type": "code",
   "execution_count": 95,
   "metadata": {},
   "outputs": [
    {
     "name": "stdout",
     "output_type": "stream",
     "text": [
      "10000\n"
     ]
    },
    {
     "data": {
      "text/html": [
       "<div>\n",
       "<style scoped>\n",
       "    .dataframe tbody tr th:only-of-type {\n",
       "        vertical-align: middle;\n",
       "    }\n",
       "\n",
       "    .dataframe tbody tr th {\n",
       "        vertical-align: top;\n",
       "    }\n",
       "\n",
       "    .dataframe thead th {\n",
       "        text-align: right;\n",
       "    }\n",
       "</style>\n",
       "<table border=\"1\" class=\"dataframe\">\n",
       "  <thead>\n",
       "    <tr style=\"text-align: right;\">\n",
       "      <th></th>\n",
       "      <th>density</th>\n",
       "      <th>alpha</th>\n",
       "      <th>geometry</th>\n",
       "    </tr>\n",
       "  </thead>\n",
       "  <tbody>\n",
       "    <tr>\n",
       "      <th>0</th>\n",
       "      <td>1.498961e-98</td>\n",
       "      <td>0.0</td>\n",
       "      <td>POLYGON ((-44467.368 -157329.253, -43652.585 -...</td>\n",
       "    </tr>\n",
       "    <tr>\n",
       "      <th>1</th>\n",
       "      <td>8.709786e-95</td>\n",
       "      <td>0.0</td>\n",
       "      <td>POLYGON ((-44467.368 -156424.671, -43652.585 -...</td>\n",
       "    </tr>\n",
       "    <tr>\n",
       "      <th>2</th>\n",
       "      <td>4.734890e-91</td>\n",
       "      <td>0.0</td>\n",
       "      <td>POLYGON ((-44467.368 -155520.089, -43652.585 -...</td>\n",
       "    </tr>\n",
       "    <tr>\n",
       "      <th>3</th>\n",
       "      <td>2.067897e-87</td>\n",
       "      <td>0.0</td>\n",
       "      <td>POLYGON ((-44467.368 -154615.506, -43652.585 -...</td>\n",
       "    </tr>\n",
       "    <tr>\n",
       "      <th>4</th>\n",
       "      <td>7.149516e-84</td>\n",
       "      <td>0.0</td>\n",
       "      <td>POLYGON ((-44467.368 -153710.924, -43652.585 -...</td>\n",
       "    </tr>\n",
       "    <tr>\n",
       "      <th>...</th>\n",
       "      <td>...</td>\n",
       "      <td>...</td>\n",
       "      <td>...</td>\n",
       "    </tr>\n",
       "    <tr>\n",
       "      <th>9995</th>\n",
       "      <td>4.181931e-87</td>\n",
       "      <td>0.0</td>\n",
       "      <td>POLYGON ((36196.111 -71393.933, 37010.894 -713...</td>\n",
       "    </tr>\n",
       "    <tr>\n",
       "      <th>9996</th>\n",
       "      <td>4.713197e-91</td>\n",
       "      <td>0.0</td>\n",
       "      <td>POLYGON ((36196.111 -70489.351, 37010.894 -704...</td>\n",
       "    </tr>\n",
       "    <tr>\n",
       "      <th>9997</th>\n",
       "      <td>4.199330e-95</td>\n",
       "      <td>0.0</td>\n",
       "      <td>POLYGON ((36196.111 -69584.768, 37010.894 -695...</td>\n",
       "    </tr>\n",
       "    <tr>\n",
       "      <th>9998</th>\n",
       "      <td>2.957810e-99</td>\n",
       "      <td>0.0</td>\n",
       "      <td>POLYGON ((36196.111 -68680.186, 37010.894 -686...</td>\n",
       "    </tr>\n",
       "    <tr>\n",
       "      <th>9999</th>\n",
       "      <td>1.646972e-103</td>\n",
       "      <td>0.0</td>\n",
       "      <td>POLYGON ((36196.111 -67775.604, 37010.894 -677...</td>\n",
       "    </tr>\n",
       "  </tbody>\n",
       "</table>\n",
       "<p>10000 rows × 3 columns</p>\n",
       "</div>"
      ],
      "text/plain": [
       "            density  alpha                                           geometry\n",
       "0      1.498961e-98    0.0  POLYGON ((-44467.368 -157329.253, -43652.585 -...\n",
       "1      8.709786e-95    0.0  POLYGON ((-44467.368 -156424.671, -43652.585 -...\n",
       "2      4.734890e-91    0.0  POLYGON ((-44467.368 -155520.089, -43652.585 -...\n",
       "3      2.067897e-87    0.0  POLYGON ((-44467.368 -154615.506, -43652.585 -...\n",
       "4      7.149516e-84    0.0  POLYGON ((-44467.368 -153710.924, -43652.585 -...\n",
       "...             ...    ...                                                ...\n",
       "9995   4.181931e-87    0.0  POLYGON ((36196.111 -71393.933, 37010.894 -713...\n",
       "9996   4.713197e-91    0.0  POLYGON ((36196.111 -70489.351, 37010.894 -704...\n",
       "9997   4.199330e-95    0.0  POLYGON ((36196.111 -69584.768, 37010.894 -695...\n",
       "9998   2.957810e-99    0.0  POLYGON ((36196.111 -68680.186, 37010.894 -686...\n",
       "9999  1.646972e-103    0.0  POLYGON ((36196.111 -67775.604, 37010.894 -677...\n",
       "\n",
       "[10000 rows x 3 columns]"
      ]
     },
     "metadata": {},
     "output_type": "display_data"
    }
   ],
   "source": [
    "density_gdf = gpd.read_file(\"./geojson/crime-density-2020.geojson\")\n",
    "density_gdf = density_gdf.set_crs(epsg=6675, allow_override=True)\n",
    "print(len(density_gdf))\n",
    "display(density_gdf)"
   ]
  },
  {
   "cell_type": "code",
   "execution_count": 48,
   "metadata": {},
   "outputs": [
    {
     "data": {
      "text/plain": [
       "<Projected CRS: EPSG:6675>\n",
       "Name: JGD2011 / Japan Plane Rectangular CS VII\n",
       "Axis Info [cartesian]:\n",
       "- X[north]: Northing (metre)\n",
       "- Y[east]: Easting (metre)\n",
       "Area of Use:\n",
       "- name: Japan - onshore - Honshu between approximately 136°15'E and 137°45'E - Ishikawa-ken; Toyama-ken; Gifu-ken; Aichi-ken.\n",
       "- bounds: (136.22, 34.51, 137.84, 37.58)\n",
       "Coordinate Operation:\n",
       "- name: Japan Plane Rectangular CS zone VII\n",
       "- method: Transverse Mercator\n",
       "Datum: Japanese Geodetic Datum 2011\n",
       "- Ellipsoid: GRS 1980\n",
       "- Prime Meridian: Greenwich"
      ]
     },
     "execution_count": 48,
     "metadata": {},
     "output_type": "execute_result"
    }
   ],
   "source": [
    "# 現在のEPSGコード\n",
    "density_gdf.crs"
   ]
  },
  {
   "cell_type": "code",
   "execution_count": 49,
   "metadata": {},
   "outputs": [
    {
     "data": {
      "text/html": [
       "<div>\n",
       "<style scoped>\n",
       "    .dataframe tbody tr th:only-of-type {\n",
       "        vertical-align: middle;\n",
       "    }\n",
       "\n",
       "    .dataframe tbody tr th {\n",
       "        vertical-align: top;\n",
       "    }\n",
       "\n",
       "    .dataframe thead th {\n",
       "        text-align: right;\n",
       "    }\n",
       "</style>\n",
       "<table border=\"1\" class=\"dataframe\">\n",
       "  <thead>\n",
       "    <tr style=\"text-align: right;\">\n",
       "      <th></th>\n",
       "      <th>density</th>\n",
       "      <th>geometry</th>\n",
       "    </tr>\n",
       "  </thead>\n",
       "  <tbody>\n",
       "    <tr>\n",
       "      <th>0</th>\n",
       "      <td>1.498961e-98</td>\n",
       "      <td>POLYGON ((136.68197 34.58082, 136.69085 34.580...</td>\n",
       "    </tr>\n",
       "    <tr>\n",
       "      <th>1</th>\n",
       "      <td>8.709786e-95</td>\n",
       "      <td>POLYGON ((136.68192 34.58898, 136.69080 34.589...</td>\n",
       "    </tr>\n",
       "    <tr>\n",
       "      <th>2</th>\n",
       "      <td>4.734890e-91</td>\n",
       "      <td>POLYGON ((136.68187 34.59713, 136.69076 34.597...</td>\n",
       "    </tr>\n",
       "    <tr>\n",
       "      <th>3</th>\n",
       "      <td>2.067897e-87</td>\n",
       "      <td>POLYGON ((136.68183 34.60529, 136.69071 34.605...</td>\n",
       "    </tr>\n",
       "    <tr>\n",
       "      <th>4</th>\n",
       "      <td>7.149516e-84</td>\n",
       "      <td>POLYGON ((136.68178 34.61344, 136.69066 34.613...</td>\n",
       "    </tr>\n",
       "    <tr>\n",
       "      <th>...</th>\n",
       "      <td>...</td>\n",
       "      <td>...</td>\n",
       "    </tr>\n",
       "    <tr>\n",
       "      <th>9995</th>\n",
       "      <td>4.181931e-87</td>\n",
       "      <td>POLYGON ((137.56494 35.35582, 137.57391 35.355...</td>\n",
       "    </tr>\n",
       "    <tr>\n",
       "      <th>9996</th>\n",
       "      <td>4.713197e-91</td>\n",
       "      <td>POLYGON ((137.56498 35.36397, 137.57395 35.363...</td>\n",
       "    </tr>\n",
       "    <tr>\n",
       "      <th>9997</th>\n",
       "      <td>4.199330e-95</td>\n",
       "      <td>POLYGON ((137.56502 35.37213, 137.57399 35.372...</td>\n",
       "    </tr>\n",
       "    <tr>\n",
       "      <th>9998</th>\n",
       "      <td>2.957810e-99</td>\n",
       "      <td>POLYGON ((137.56506 35.38028, 137.57403 35.380...</td>\n",
       "    </tr>\n",
       "    <tr>\n",
       "      <th>9999</th>\n",
       "      <td>1.646972e-103</td>\n",
       "      <td>POLYGON ((137.56510 35.38843, 137.57407 35.388...</td>\n",
       "    </tr>\n",
       "  </tbody>\n",
       "</table>\n",
       "<p>10000 rows × 2 columns</p>\n",
       "</div>"
      ],
      "text/plain": [
       "            density                                           geometry\n",
       "0      1.498961e-98  POLYGON ((136.68197 34.58082, 136.69085 34.580...\n",
       "1      8.709786e-95  POLYGON ((136.68192 34.58898, 136.69080 34.589...\n",
       "2      4.734890e-91  POLYGON ((136.68187 34.59713, 136.69076 34.597...\n",
       "3      2.067897e-87  POLYGON ((136.68183 34.60529, 136.69071 34.605...\n",
       "4      7.149516e-84  POLYGON ((136.68178 34.61344, 136.69066 34.613...\n",
       "...             ...                                                ...\n",
       "9995   4.181931e-87  POLYGON ((137.56494 35.35582, 137.57391 35.355...\n",
       "9996   4.713197e-91  POLYGON ((137.56498 35.36397, 137.57395 35.363...\n",
       "9997   4.199330e-95  POLYGON ((137.56502 35.37213, 137.57399 35.372...\n",
       "9998   2.957810e-99  POLYGON ((137.56506 35.38028, 137.57403 35.380...\n",
       "9999  1.646972e-103  POLYGON ((137.56510 35.38843, 137.57407 35.388...\n",
       "\n",
       "[10000 rows x 2 columns]"
      ]
     },
     "metadata": {},
     "output_type": "display_data"
    }
   ],
   "source": [
    "# 緯度軽度に変換\n",
    "density_gdf = density_gdf.to_crs(epsg=4326)\n",
    "display(density_gdf)"
   ]
  },
  {
   "cell_type": "code",
   "execution_count": 50,
   "metadata": {},
   "outputs": [],
   "source": [
    "# GeoJSONファイルを書込\n",
    "with open(\"./geojson/crime-density-mesh-2020.geojson\", \"w\") as f:\n",
    "    json.dump(geojson, f, ensure_ascii=False)"
   ]
  }
 ],
 "metadata": {
  "kernelspec": {
   "display_name": "Python 3",
   "language": "python",
   "name": "python3"
  },
  "language_info": {
   "codemirror_mode": {
    "name": "ipython",
    "version": 3
   },
   "file_extension": ".py",
   "mimetype": "text/x-python",
   "name": "python",
   "nbconvert_exporter": "python",
   "pygments_lexer": "ipython3",
   "version": "3.8.2"
  }
 },
 "nbformat": 4,
 "nbformat_minor": 4
}
