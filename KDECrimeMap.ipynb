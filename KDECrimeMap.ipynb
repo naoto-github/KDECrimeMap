{
 "cells": [
  {
   "cell_type": "code",
   "execution_count": 138,
   "metadata": {},
   "outputs": [],
   "source": [
    "import pandas as pd\n",
    "import geopandas as gpd\n",
    "import folium\n",
    "import matplotlib.pyplot as plt\n",
    "import json\n",
    "import numpy as np"
   ]
  },
  {
   "cell_type": "code",
   "execution_count": 139,
   "metadata": {},
   "outputs": [
    {
     "data": {
      "text/html": [
       "<div>\n",
       "<style scoped>\n",
       "    .dataframe tbody tr th:only-of-type {\n",
       "        vertical-align: middle;\n",
       "    }\n",
       "\n",
       "    .dataframe tbody tr th {\n",
       "        vertical-align: top;\n",
       "    }\n",
       "\n",
       "    .dataframe thead th {\n",
       "        text-align: right;\n",
       "    }\n",
       "</style>\n",
       "<table border=\"1\" class=\"dataframe\">\n",
       "  <thead>\n",
       "    <tr style=\"text-align: right;\">\n",
       "      <th></th>\n",
       "      <th>id</th>\n",
       "      <th>crime</th>\n",
       "      <th>trick</th>\n",
       "      <th>police_station</th>\n",
       "      <th>police_box</th>\n",
       "      <th>city_code</th>\n",
       "      <th>prefecture</th>\n",
       "      <th>city</th>\n",
       "      <th>number</th>\n",
       "      <th>date</th>\n",
       "      <th>time</th>\n",
       "      <th>place</th>\n",
       "      <th>place_name</th>\n",
       "      <th>lat</th>\n",
       "      <th>lon</th>\n",
       "      <th>relevance</th>\n",
       "    </tr>\n",
       "  </thead>\n",
       "  <tbody>\n",
       "    <tr>\n",
       "      <th>0</th>\n",
       "      <td>crime-00001</td>\n",
       "      <td>窃盗</td>\n",
       "      <td>部品ねらい</td>\n",
       "      <td>西</td>\n",
       "      <td>名塚</td>\n",
       "      <td>231045</td>\n",
       "      <td>愛知県</td>\n",
       "      <td>名古屋市西区</td>\n",
       "      <td>天塚町４丁目</td>\n",
       "      <td>2019-09-11</td>\n",
       "      <td>20</td>\n",
       "      <td>その他の住宅（３階建て以下共同住宅等）</td>\n",
       "      <td>日本, 愛知県名古屋市西区天塚町4丁目</td>\n",
       "      <td>35.200157</td>\n",
       "      <td>136.892705</td>\n",
       "      <td>0.99</td>\n",
       "    </tr>\n",
       "    <tr>\n",
       "      <th>1</th>\n",
       "      <td>crime-00002</td>\n",
       "      <td>窃盗</td>\n",
       "      <td>部品ねらい</td>\n",
       "      <td>西</td>\n",
       "      <td>名塚</td>\n",
       "      <td>231045</td>\n",
       "      <td>愛知県</td>\n",
       "      <td>名古屋市西区</td>\n",
       "      <td>上堀越町２丁目</td>\n",
       "      <td>2019-08-05</td>\n",
       "      <td>18</td>\n",
       "      <td>駐車（輪）場</td>\n",
       "      <td>日本, 愛知県名古屋市西区上堀越町2丁目</td>\n",
       "      <td>35.204867</td>\n",
       "      <td>136.881139</td>\n",
       "      <td>0.99</td>\n",
       "    </tr>\n",
       "    <tr>\n",
       "      <th>2</th>\n",
       "      <td>crime-00003</td>\n",
       "      <td>窃盗</td>\n",
       "      <td>部品ねらい</td>\n",
       "      <td>西</td>\n",
       "      <td>名塚</td>\n",
       "      <td>231045</td>\n",
       "      <td>愛知県</td>\n",
       "      <td>名古屋市西区</td>\n",
       "      <td>上堀越町３丁目</td>\n",
       "      <td>2019-05-23</td>\n",
       "      <td>08</td>\n",
       "      <td>駐車（輪）場</td>\n",
       "      <td>日本, 愛知県名古屋市西区上堀越町3丁目</td>\n",
       "      <td>35.204543</td>\n",
       "      <td>136.879850</td>\n",
       "      <td>0.99</td>\n",
       "    </tr>\n",
       "    <tr>\n",
       "      <th>3</th>\n",
       "      <td>crime-00004</td>\n",
       "      <td>窃盗</td>\n",
       "      <td>部品ねらい</td>\n",
       "      <td>西</td>\n",
       "      <td>名塚</td>\n",
       "      <td>231045</td>\n",
       "      <td>愛知県</td>\n",
       "      <td>名古屋市西区</td>\n",
       "      <td>香呑町１丁目</td>\n",
       "      <td>2019-03-10</td>\n",
       "      <td>17</td>\n",
       "      <td>駐車（輪）場</td>\n",
       "      <td>日本, 愛知県名古屋市西区香呑町1丁目</td>\n",
       "      <td>35.203126</td>\n",
       "      <td>136.899371</td>\n",
       "      <td>0.99</td>\n",
       "    </tr>\n",
       "    <tr>\n",
       "      <th>4</th>\n",
       "      <td>crime-00005</td>\n",
       "      <td>窃盗</td>\n",
       "      <td>部品ねらい</td>\n",
       "      <td>西</td>\n",
       "      <td>名塚</td>\n",
       "      <td>231045</td>\n",
       "      <td>愛知県</td>\n",
       "      <td>名古屋市西区</td>\n",
       "      <td>香呑町１丁目</td>\n",
       "      <td>2019-03-11</td>\n",
       "      <td>19</td>\n",
       "      <td>駐車（輪）場</td>\n",
       "      <td>日本, 愛知県名古屋市西区香呑町1丁目</td>\n",
       "      <td>35.203126</td>\n",
       "      <td>136.899371</td>\n",
       "      <td>0.99</td>\n",
       "    </tr>\n",
       "  </tbody>\n",
       "</table>\n",
       "</div>"
      ],
      "text/plain": [
       "            id crime  trick police_station police_box  city_code prefecture  \\\n",
       "0  crime-00001    窃盗  部品ねらい              西         名塚     231045        愛知県   \n",
       "1  crime-00002    窃盗  部品ねらい              西         名塚     231045        愛知県   \n",
       "2  crime-00003    窃盗  部品ねらい              西         名塚     231045        愛知県   \n",
       "3  crime-00004    窃盗  部品ねらい              西         名塚     231045        愛知県   \n",
       "4  crime-00005    窃盗  部品ねらい              西         名塚     231045        愛知県   \n",
       "\n",
       "     city   number        date time                place  \\\n",
       "0  名古屋市西区   天塚町４丁目  2019-09-11   20  その他の住宅（３階建て以下共同住宅等）   \n",
       "1  名古屋市西区  上堀越町２丁目  2019-08-05   18               駐車（輪）場   \n",
       "2  名古屋市西区  上堀越町３丁目  2019-05-23   08               駐車（輪）場   \n",
       "3  名古屋市西区   香呑町１丁目  2019-03-10   17               駐車（輪）場   \n",
       "4  名古屋市西区   香呑町１丁目  2019-03-11   19               駐車（輪）場   \n",
       "\n",
       "             place_name        lat         lon  relevance  \n",
       "0   日本, 愛知県名古屋市西区天塚町4丁目  35.200157  136.892705       0.99  \n",
       "1  日本, 愛知県名古屋市西区上堀越町2丁目  35.204867  136.881139       0.99  \n",
       "2  日本, 愛知県名古屋市西区上堀越町3丁目  35.204543  136.879850       0.99  \n",
       "3   日本, 愛知県名古屋市西区香呑町1丁目  35.203126  136.899371       0.99  \n",
       "4   日本, 愛知県名古屋市西区香呑町1丁目  35.203126  136.899371       0.99  "
      ]
     },
     "metadata": {},
     "output_type": "display_data"
    }
   ],
   "source": [
    "CRIME_CSV_PATH = \"./db/aichi-crime-2020.csv\"\n",
    "crime_df = pd.read_csv(CRIME_CSV_PATH)\n",
    "display(crime_df.head())"
   ]
  },
  {
   "cell_type": "code",
   "execution_count": 140,
   "metadata": {},
   "outputs": [
    {
     "data": {
      "text/plain": [
       "id                 0\n",
       "crime              0\n",
       "trick              0\n",
       "police_station     0\n",
       "police_box         0\n",
       "city_code          0\n",
       "prefecture         0\n",
       "city               0\n",
       "number             0\n",
       "date               0\n",
       "time               0\n",
       "place              0\n",
       "place_name        19\n",
       "lat                0\n",
       "lon                0\n",
       "relevance          0\n",
       "dtype: int64"
      ]
     },
     "execution_count": 140,
     "metadata": {},
     "output_type": "execute_result"
    }
   ],
   "source": [
    "crime_df.isnull().sum()"
   ]
  },
  {
   "cell_type": "code",
   "execution_count": 156,
   "metadata": {},
   "outputs": [],
   "source": [
    "# GeoJSONに変換\n",
    "record_list = []\n",
    "\n",
    "for index,row in crime_df.iterrows():\n",
    "    \n",
    "    id = row[0]\n",
    "\n",
    "    crime = row[1]\n",
    "    trick = row[2]\n",
    "    police_station = row[3]\n",
    "    police_box = row[4]\n",
    "    city_code = row[5]\n",
    "    prefecture = row[6]\n",
    "    city = row[7]\n",
    "    number = row[8]\n",
    "    date = row[9]\n",
    "    time = row[10]\n",
    "    place = row[11]\n",
    "    place_name = row[12]\n",
    "    lat = row[13]\n",
    "    lon = row[14]\n",
    "    relevance = row[15]\n",
    "    \n",
    "    record = {\n",
    "        \"type\": \"Feature\",\n",
    "        \"geometry\": {\n",
    "            \"type\": \"Point\",\n",
    "            \"coordinates\": [lon, lat],\n",
    "        },\n",
    "        \"properties\": {\n",
    "            \"id\": id,\n",
    "            \"crime\": crime,\n",
    "            \"trick\": trick,\n",
    "            \"police_station\": police_station,\n",
    "            \"police_box\": police_box,\n",
    "            \"city_code\": city_code,\n",
    "            \"prefecture\": prefecture,\n",
    "            \"city\": city,\n",
    "            \"number\": number,\n",
    "            \"date\": date,\n",
    "            \"time\": time,\n",
    "            \"place\": place,\n",
    "            \"place_name\": place_name,\n",
    "            \"relevance\": relevance\n",
    "        }\n",
    "    }\n",
    "    \n",
    "    record_list.append(record)"
   ]
  },
  {
   "cell_type": "code",
   "execution_count": 157,
   "metadata": {},
   "outputs": [
    {
     "name": "stdout",
     "output_type": "stream",
     "text": [
      "45456\n"
     ]
    }
   ],
   "source": [
    "# レコード数\n",
    "print(len(record_list))"
   ]
  },
  {
   "cell_type": "code",
   "execution_count": 158,
   "metadata": {},
   "outputs": [
    {
     "name": "stdout",
     "output_type": "stream",
     "text": [
      "[136.892705485502, 35.2001569561191]\n"
     ]
    }
   ],
   "source": [
    "# 最初のレコード\n",
    "print(record_list[0][\"geometry\"][\"coordinates\"])"
   ]
  },
  {
   "cell_type": "code",
   "execution_count": 159,
   "metadata": {},
   "outputs": [],
   "source": [
    "# GeoJSONに変換\n",
    "geojson = {\n",
    "    \"type\": \"FeatureCollection\",\n",
    "    \"features\": []\n",
    "}\n",
    "\n",
    "geojson[\"features\"] = record_list\n",
    "\n",
    "# GeoJSONファイルを書込\n",
    "with open(\"aichi-crime-2020.geojson\", \"w\") as f:\n",
    "    json.dump(geojson, f, ensure_ascii=False)"
   ]
  },
  {
   "cell_type": "code",
   "execution_count": 160,
   "metadata": {},
   "outputs": [
    {
     "name": "stdout",
     "output_type": "stream",
     "text": [
      "45456\n"
     ]
    }
   ],
   "source": [
    "crime_gdf = gpd.read_file(\"aichi-crime-2020.geojson\")\n",
    "print(len(crime_gdf))"
   ]
  },
  {
   "cell_type": "code",
   "execution_count": 161,
   "metadata": {},
   "outputs": [
    {
     "data": {
      "text/html": [
       "<div>\n",
       "<style scoped>\n",
       "    .dataframe tbody tr th:only-of-type {\n",
       "        vertical-align: middle;\n",
       "    }\n",
       "\n",
       "    .dataframe tbody tr th {\n",
       "        vertical-align: top;\n",
       "    }\n",
       "\n",
       "    .dataframe thead th {\n",
       "        text-align: right;\n",
       "    }\n",
       "</style>\n",
       "<table border=\"1\" class=\"dataframe\">\n",
       "  <thead>\n",
       "    <tr style=\"text-align: right;\">\n",
       "      <th></th>\n",
       "      <th>id</th>\n",
       "      <th>crime</th>\n",
       "      <th>trick</th>\n",
       "      <th>police_station</th>\n",
       "      <th>police_box</th>\n",
       "      <th>city_code</th>\n",
       "      <th>prefecture</th>\n",
       "      <th>city</th>\n",
       "      <th>number</th>\n",
       "      <th>date</th>\n",
       "      <th>time</th>\n",
       "      <th>place</th>\n",
       "      <th>place_name</th>\n",
       "      <th>relevance</th>\n",
       "      <th>geometry</th>\n",
       "    </tr>\n",
       "  </thead>\n",
       "  <tbody>\n",
       "    <tr>\n",
       "      <th>0</th>\n",
       "      <td>crime-00001</td>\n",
       "      <td>窃盗</td>\n",
       "      <td>部品ねらい</td>\n",
       "      <td>西</td>\n",
       "      <td>名塚</td>\n",
       "      <td>231045</td>\n",
       "      <td>愛知県</td>\n",
       "      <td>名古屋市西区</td>\n",
       "      <td>天塚町４丁目</td>\n",
       "      <td>2019-09-11</td>\n",
       "      <td>20</td>\n",
       "      <td>その他の住宅（３階建て以下共同住宅等）</td>\n",
       "      <td>日本, 愛知県名古屋市西区天塚町4丁目</td>\n",
       "      <td>0.99</td>\n",
       "      <td>POINT (136.89271 35.20016)</td>\n",
       "    </tr>\n",
       "  </tbody>\n",
       "</table>\n",
       "</div>"
      ],
      "text/plain": [
       "            id crime  trick police_station police_box  city_code prefecture  \\\n",
       "0  crime-00001    窃盗  部品ねらい              西         名塚     231045        愛知県   \n",
       "\n",
       "     city  number        date time                place           place_name  \\\n",
       "0  名古屋市西区  天塚町４丁目  2019-09-11   20  その他の住宅（３階建て以下共同住宅等）  日本, 愛知県名古屋市西区天塚町4丁目   \n",
       "\n",
       "   relevance                    geometry  \n",
       "0       0.99  POINT (136.89271 35.20016)  "
      ]
     },
     "execution_count": 161,
     "metadata": {},
     "output_type": "execute_result"
    }
   ],
   "source": [
    "crime_gdf[0:1]"
   ]
  },
  {
   "cell_type": "code",
   "execution_count": 162,
   "metadata": {},
   "outputs": [
    {
     "data": {
      "text/plain": [
       "0        POINT (136.89271 35.20016)\n",
       "1        POINT (136.88114 35.20487)\n",
       "2        POINT (136.87985 35.20454)\n",
       "3        POINT (136.89937 35.20313)\n",
       "4        POINT (136.89937 35.20313)\n",
       "                    ...            \n",
       "45451    POINT (137.26951 34.66724)\n",
       "45452    POINT (137.26951 34.66724)\n",
       "45453    POINT (137.26951 34.66724)\n",
       "45454    POINT (137.26951 34.66724)\n",
       "45455    POINT (137.27330 34.67386)\n",
       "Name: geometry, Length: 45456, dtype: geometry"
      ]
     },
     "execution_count": 162,
     "metadata": {},
     "output_type": "execute_result"
    }
   ],
   "source": [
    "crime_gdf.geometry"
   ]
  },
  {
   "cell_type": "code",
   "execution_count": 170,
   "metadata": {},
   "outputs": [
    {
     "data": {
      "text/plain": [
       "<matplotlib.axes._subplots.AxesSubplot at 0x1331042b0>"
      ]
     },
     "execution_count": 170,
     "metadata": {},
     "output_type": "execute_result"
    },
    {
     "data": {
      "image/png": "[encoded data removed]",
      "text/plain": [
       "<Figure size 432x288 with 1 Axes>"
      ]
     },
     "metadata": {
      "needs_background": "light"
     },
     "output_type": "display_data"
    }
   ],
   "source": [
    "crime_gdf[crime_gdf[\"relevance\"] > 0.8].plot()"
   ]
  },
  {
   "cell_type": "code",
   "execution_count": null,
   "metadata": {},
   "outputs": [],
   "source": []
  }
 ],
 "metadata": {
  "kernelspec": {
   "display_name": "Python 3",
   "language": "python",
   "name": "python3"
  },
  "language_info": {
   "codemirror_mode": {
    "name": "ipython",
    "version": 3
   },
   "file_extension": ".py",
   "mimetype": "text/x-python",
   "name": "python",
   "nbconvert_exporter": "python",
   "pygments_lexer": "ipython3",
   "version": "3.8.2"
  }
 },
 "nbformat": 4,
 "nbformat_minor": 4
}
