{
 "cells": [
  {
   "cell_type": "code",
   "execution_count": 10,
   "metadata": {},
   "outputs": [],
   "source": [
    "import pandas as pd\n",
    "import geopandas as gpd\n",
    "import folium\n",
    "import matplotlib.pyplot as plt\n",
    "import json\n",
    "import numpy as np\n",
    "from scipy.stats import gaussian_kde"
   ]
  },
  {
   "cell_type": "code",
   "execution_count": 4,
   "metadata": {},
   "outputs": [
    {
     "name": "stdout",
     "output_type": "stream",
     "text": [
      "45456\n"
     ]
    }
   ],
   "source": [
    "crime_gdf = gpd.read_file(\"./geojson/aichi-crime-2020.geojson\")\n",
    "print(len(crime_gdf))"
   ]
  },
  {
   "cell_type": "code",
   "execution_count": 5,
   "metadata": {},
   "outputs": [],
   "source": [
    "# 直交座標系に変換\n",
    "crime_gdf = crime_gdf.to_crs(6675)"
   ]
  },
  {
   "cell_type": "code",
   "execution_count": 6,
   "metadata": {},
   "outputs": [
    {
     "data": {
      "text/plain": [
       "<matplotlib.axes._subplots.AxesSubplot at 0x108307730>"
      ]
     },
     "execution_count": 6,
     "metadata": {},
     "output_type": "execute_result"
    },
    {
     "data": {
      "image/png": "[encoded data removed]",
      "text/plain": [
       "<Figure size 432x288 with 1 Axes>"
      ]
     },
     "metadata": {
      "needs_background": "light"
     },
     "output_type": "display_data"
    }
   ],
   "source": [
    "crime_gdf[crime_gdf[\"relevance\"] > 0.8].plot()"
   ]
  },
  {
   "cell_type": "code",
   "execution_count": 7,
   "metadata": {},
   "outputs": [
    {
     "data": {
      "text/html": [
       "<div>\n",
       "<style scoped>\n",
       "    .dataframe tbody tr th:only-of-type {\n",
       "        vertical-align: middle;\n",
       "    }\n",
       "\n",
       "    .dataframe tbody tr th {\n",
       "        vertical-align: top;\n",
       "    }\n",
       "\n",
       "    .dataframe thead th {\n",
       "        text-align: right;\n",
       "    }\n",
       "</style>\n",
       "<table border=\"1\" class=\"dataframe\">\n",
       "  <thead>\n",
       "    <tr style=\"text-align: right;\">\n",
       "      <th></th>\n",
       "      <th>id</th>\n",
       "      <th>crime</th>\n",
       "      <th>trick</th>\n",
       "      <th>police_station</th>\n",
       "      <th>police_box</th>\n",
       "      <th>city_code</th>\n",
       "      <th>prefecture</th>\n",
       "      <th>city</th>\n",
       "      <th>number</th>\n",
       "      <th>date</th>\n",
       "      <th>time</th>\n",
       "      <th>place</th>\n",
       "      <th>place_name</th>\n",
       "      <th>relevance</th>\n",
       "      <th>geometry</th>\n",
       "    </tr>\n",
       "  </thead>\n",
       "  <tbody>\n",
       "    <tr>\n",
       "      <th>31442</th>\n",
       "      <td>crime-31443</td>\n",
       "      <td>窃盗</td>\n",
       "      <td>車上ねらい</td>\n",
       "      <td>安城</td>\n",
       "      <td>安城駅前</td>\n",
       "      <td>232122</td>\n",
       "      <td>愛知県</td>\n",
       "      <td>安城市</td>\n",
       "      <td>安城町社口堂</td>\n",
       "      <td>2018-08-02</td>\n",
       "      <td>21</td>\n",
       "      <td>駐車（輪）場</td>\n",
       "      <td>日本, 愛知県安城市安城町社口堂</td>\n",
       "      <td>0.99</td>\n",
       "      <td>POINT (-6961.581 -116913.868)</td>\n",
       "    </tr>\n",
       "    <tr>\n",
       "      <th>28549</th>\n",
       "      <td>crime-28550</td>\n",
       "      <td>窃盗</td>\n",
       "      <td>部品ねらい</td>\n",
       "      <td>小牧</td>\n",
       "      <td>小牧</td>\n",
       "      <td>232190</td>\n",
       "      <td>愛知県</td>\n",
       "      <td>小牧市</td>\n",
       "      <td>常普請３丁目</td>\n",
       "      <td>2018-12-26</td>\n",
       "      <td>22</td>\n",
       "      <td>その他</td>\n",
       "      <td>日本, 愛知県小牧市常普請3丁目</td>\n",
       "      <td>0.99</td>\n",
       "      <td>POINT (-22621.920 -79713.514)</td>\n",
       "    </tr>\n",
       "    <tr>\n",
       "      <th>21362</th>\n",
       "      <td>crime-21363</td>\n",
       "      <td>窃盗</td>\n",
       "      <td>自転車盗</td>\n",
       "      <td>昭和</td>\n",
       "      <td>阿由知</td>\n",
       "      <td>231070</td>\n",
       "      <td>愛知県</td>\n",
       "      <td>名古屋市昭和区</td>\n",
       "      <td>東畑町２丁目</td>\n",
       "      <td>2020/11/30</td>\n",
       "      <td>20</td>\n",
       "      <td>その他の住宅（３階建て以下共同住宅等）</td>\n",
       "      <td>日本, 愛知県名古屋市昭和区東畑町2丁目</td>\n",
       "      <td>0.99</td>\n",
       "      <td>POINT (-21435.226 -94224.439)</td>\n",
       "    </tr>\n",
       "    <tr>\n",
       "      <th>6379</th>\n",
       "      <td>crime-06380</td>\n",
       "      <td>窃盗</td>\n",
       "      <td>自転車盗</td>\n",
       "      <td>中村</td>\n",
       "      <td>笹島</td>\n",
       "      <td>231053</td>\n",
       "      <td>愛知県</td>\n",
       "      <td>名古屋市中村区</td>\n",
       "      <td>名駅南１丁目</td>\n",
       "      <td>2019/5/19</td>\n",
       "      <td>14</td>\n",
       "      <td>駐車（輪）場</td>\n",
       "      <td>日本, 愛知県名古屋市中村区名駅南1丁目1番</td>\n",
       "      <td>0.99</td>\n",
       "      <td>POINT (-25042.471 -92380.934)</td>\n",
       "    </tr>\n",
       "    <tr>\n",
       "      <th>35015</th>\n",
       "      <td>crime-35016</td>\n",
       "      <td>窃盗</td>\n",
       "      <td>自転車盗</td>\n",
       "      <td>西</td>\n",
       "      <td>比良</td>\n",
       "      <td>231045</td>\n",
       "      <td>愛知県</td>\n",
       "      <td>名古屋市西区</td>\n",
       "      <td>比良２丁目</td>\n",
       "      <td>2018-03-15</td>\n",
       "      <td>20</td>\n",
       "      <td>道路上</td>\n",
       "      <td>日本, 愛知県名古屋市西区比良2丁目</td>\n",
       "      <td>0.99</td>\n",
       "      <td>POINT (-24252.281 -85698.439)</td>\n",
       "    </tr>\n",
       "    <tr>\n",
       "      <th>...</th>\n",
       "      <td>...</td>\n",
       "      <td>...</td>\n",
       "      <td>...</td>\n",
       "      <td>...</td>\n",
       "      <td>...</td>\n",
       "      <td>...</td>\n",
       "      <td>...</td>\n",
       "      <td>...</td>\n",
       "      <td>...</td>\n",
       "      <td>...</td>\n",
       "      <td>...</td>\n",
       "      <td>...</td>\n",
       "      <td>...</td>\n",
       "      <td>...</td>\n",
       "      <td>...</td>\n",
       "    </tr>\n",
       "    <tr>\n",
       "      <th>7136</th>\n",
       "      <td>crime-07137</td>\n",
       "      <td>窃盗</td>\n",
       "      <td>自転車盗</td>\n",
       "      <td>瑞穂</td>\n",
       "      <td>豊岡</td>\n",
       "      <td>231088</td>\n",
       "      <td>愛知県</td>\n",
       "      <td>名古屋市瑞穂区</td>\n",
       "      <td>瑞穂通６丁目</td>\n",
       "      <td>2019/11/6</td>\n",
       "      <td>16</td>\n",
       "      <td>その他</td>\n",
       "      <td>日本, 愛知県名古屋市瑞穂区瑞穂通6丁目</td>\n",
       "      <td>0.99</td>\n",
       "      <td>POINT (-21052.283 -97223.775)</td>\n",
       "    </tr>\n",
       "    <tr>\n",
       "      <th>23324</th>\n",
       "      <td>crime-23325</td>\n",
       "      <td>窃盗</td>\n",
       "      <td>自転車盗</td>\n",
       "      <td>東</td>\n",
       "      <td>矢田</td>\n",
       "      <td>231029</td>\n",
       "      <td>愛知県</td>\n",
       "      <td>名古屋市東区</td>\n",
       "      <td>矢田２丁目</td>\n",
       "      <td>2020/3/26</td>\n",
       "      <td>14</td>\n",
       "      <td>その他</td>\n",
       "      <td>日本, 愛知県名古屋市東区矢田2丁目13番</td>\n",
       "      <td>0.99</td>\n",
       "      <td>POINT (-20479.024 -89280.638)</td>\n",
       "    </tr>\n",
       "    <tr>\n",
       "      <th>2602</th>\n",
       "      <td>crime-02603</td>\n",
       "      <td>窃盗</td>\n",
       "      <td>車上ねらい</td>\n",
       "      <td>東海</td>\n",
       "      <td>富木島</td>\n",
       "      <td>232220</td>\n",
       "      <td>愛知県</td>\n",
       "      <td>東海市</td>\n",
       "      <td>富木島町向イ</td>\n",
       "      <td>2019/9/25</td>\n",
       "      <td>18</td>\n",
       "      <td>駐車（輪）場</td>\n",
       "      <td>日本, 愛知県東海市富木島町向イ</td>\n",
       "      <td>0.99</td>\n",
       "      <td>POINT (-22932.055 -108650.877)</td>\n",
       "    </tr>\n",
       "    <tr>\n",
       "      <th>22953</th>\n",
       "      <td>crime-22954</td>\n",
       "      <td>窃盗</td>\n",
       "      <td>自転車盗</td>\n",
       "      <td>豊川</td>\n",
       "      <td>稲荷通</td>\n",
       "      <td>232076</td>\n",
       "      <td>愛知県</td>\n",
       "      <td>豊川市</td>\n",
       "      <td>駅前通３丁目</td>\n",
       "      <td>2020/6/16</td>\n",
       "      <td>6</td>\n",
       "      <td>その他</td>\n",
       "      <td>日本, 愛知県豊川市駅前通3丁目</td>\n",
       "      <td>0.99</td>\n",
       "      <td>POINT (20231.059 -130879.032)</td>\n",
       "    </tr>\n",
       "    <tr>\n",
       "      <th>36629</th>\n",
       "      <td>crime-36630</td>\n",
       "      <td>窃盗</td>\n",
       "      <td>自転車盗</td>\n",
       "      <td>瑞穂</td>\n",
       "      <td>御剱高田</td>\n",
       "      <td>231088</td>\n",
       "      <td>愛知県</td>\n",
       "      <td>名古屋市瑞穂区</td>\n",
       "      <td>亀城町５丁目</td>\n",
       "      <td>2018-07-01</td>\n",
       "      <td>12</td>\n",
       "      <td>４階建て以上共同住宅</td>\n",
       "      <td>日本, 愛知県名古屋市瑞穂区亀城町5丁目</td>\n",
       "      <td>0.99</td>\n",
       "      <td>POINT (-21957.138 -95810.696)</td>\n",
       "    </tr>\n",
       "  </tbody>\n",
       "</table>\n",
       "<p>100 rows × 15 columns</p>\n",
       "</div>"
      ],
      "text/plain": [
       "                id crime  trick police_station police_box  city_code  \\\n",
       "31442  crime-31443    窃盗  車上ねらい             安城       安城駅前     232122   \n",
       "28549  crime-28550    窃盗  部品ねらい             小牧         小牧     232190   \n",
       "21362  crime-21363    窃盗   自転車盗             昭和        阿由知     231070   \n",
       "6379   crime-06380    窃盗   自転車盗             中村         笹島     231053   \n",
       "35015  crime-35016    窃盗   自転車盗              西         比良     231045   \n",
       "...            ...   ...    ...            ...        ...        ...   \n",
       "7136   crime-07137    窃盗   自転車盗             瑞穂         豊岡     231088   \n",
       "23324  crime-23325    窃盗   自転車盗              東         矢田     231029   \n",
       "2602   crime-02603    窃盗  車上ねらい             東海        富木島     232220   \n",
       "22953  crime-22954    窃盗   自転車盗             豊川        稲荷通     232076   \n",
       "36629  crime-36630    窃盗   自転車盗             瑞穂       御剱高田     231088   \n",
       "\n",
       "      prefecture     city  number        date time                place  \\\n",
       "31442        愛知県      安城市  安城町社口堂  2018-08-02   21               駐車（輪）場   \n",
       "28549        愛知県      小牧市  常普請３丁目  2018-12-26   22                  その他   \n",
       "21362        愛知県  名古屋市昭和区  東畑町２丁目  2020/11/30   20  その他の住宅（３階建て以下共同住宅等）   \n",
       "6379         愛知県  名古屋市中村区  名駅南１丁目   2019/5/19   14               駐車（輪）場   \n",
       "35015        愛知県   名古屋市西区   比良２丁目  2018-03-15   20                  道路上   \n",
       "...          ...      ...     ...         ...  ...                  ...   \n",
       "7136         愛知県  名古屋市瑞穂区  瑞穂通６丁目   2019/11/6   16                  その他   \n",
       "23324        愛知県   名古屋市東区   矢田２丁目   2020/3/26   14                  その他   \n",
       "2602         愛知県      東海市  富木島町向イ   2019/9/25   18               駐車（輪）場   \n",
       "22953        愛知県      豊川市  駅前通３丁目   2020/6/16    6                  その他   \n",
       "36629        愛知県  名古屋市瑞穂区  亀城町５丁目  2018-07-01   12           ４階建て以上共同住宅   \n",
       "\n",
       "                   place_name  relevance                        geometry  \n",
       "31442        日本, 愛知県安城市安城町社口堂       0.99   POINT (-6961.581 -116913.868)  \n",
       "28549        日本, 愛知県小牧市常普請3丁目       0.99   POINT (-22621.920 -79713.514)  \n",
       "21362    日本, 愛知県名古屋市昭和区東畑町2丁目       0.99   POINT (-21435.226 -94224.439)  \n",
       "6379   日本, 愛知県名古屋市中村区名駅南1丁目1番       0.99   POINT (-25042.471 -92380.934)  \n",
       "35015      日本, 愛知県名古屋市西区比良2丁目       0.99   POINT (-24252.281 -85698.439)  \n",
       "...                       ...        ...                             ...  \n",
       "7136     日本, 愛知県名古屋市瑞穂区瑞穂通6丁目       0.99   POINT (-21052.283 -97223.775)  \n",
       "23324   日本, 愛知県名古屋市東区矢田2丁目13番       0.99   POINT (-20479.024 -89280.638)  \n",
       "2602         日本, 愛知県東海市富木島町向イ       0.99  POINT (-22932.055 -108650.877)  \n",
       "22953        日本, 愛知県豊川市駅前通3丁目       0.99   POINT (20231.059 -130879.032)  \n",
       "36629    日本, 愛知県名古屋市瑞穂区亀城町5丁目       0.99   POINT (-21957.138 -95810.696)  \n",
       "\n",
       "[100 rows x 15 columns]"
      ]
     },
     "metadata": {},
     "output_type": "display_data"
    }
   ],
   "source": [
    "n_sample = 100\n",
    "sample_gdf = crime_gdf[crime_gdf[\"relevance\"]>0.8].sample(n_sample)\n",
    "display(sample_gdf)"
   ]
  },
  {
   "cell_type": "code",
   "execution_count": 9,
   "metadata": {},
   "outputs": [
    {
     "data": {
      "text/plain": [
       "<matplotlib.axes._subplots.AxesSubplot at 0x121cbd3a0>"
      ]
     },
     "execution_count": 9,
     "metadata": {},
     "output_type": "execute_result"
    },
    {
     "data": {
      "image/png": "[encoded data removed]",
      "text/plain": [
       "<Figure size 432x288 with 1 Axes>"
      ]
     },
     "metadata": {
      "needs_background": "light"
     },
     "output_type": "display_data"
    }
   ],
   "source": [
    "sample_gdf.plot()"
   ]
  },
  {
   "cell_type": "code",
   "execution_count": 31,
   "metadata": {},
   "outputs": [
    {
     "name": "stdout",
     "output_type": "stream",
     "text": [
      "[(-6961.580798453101, -116913.86831036846), (-22621.92032175059, -79713.51435239507), (-21435.2257379476, -94224.43906228949), (-25042.470789507006, -92380.93418933165), (-24252.280510552973, -85698.4390820055), (-8862.566018407293, -126565.66397647811), (-10647.853174018484, -125699.19589205844), (-26319.495605235967, -96772.78818428547), (-25884.291012136986, -92950.57021421693), (-28994.631302533217, -92284.3690731184), (-10118.292635041427, -107083.59712251186), (-18729.253421700745, -81531.65652552147), (-27317.04898737691, -85915.79552453998), (-25529.142750402323, -110101.48879907725), (-22927.705278939306, -88198.6924087233), (-15795.237189662972, -92143.31333085925), (-7010.2663599809985, -114906.21898929168), (-19799.895912691947, -87278.74098225284), (-10642.54379023055, -97603.30403289555), (-34752.76149674768, -89895.58853385539), (-770.2424483535169, -101190.60983897353), (-17732.109187340884, -90222.63050434394), (-29153.054282822264, -88684.0786030611), (-20559.623681768036, -87983.18828951786), (-33137.99859825761, -82949.77465044628), (-41850.734457994295, -82064.06654665663), (-33137.99859825761, -82949.77465044628), (-22511.667640823045, -92972.94938421204), (-1150.011565038386, -115764.48175097733), (-16562.234564380935, -81209.8952347467), (-14825.279377014582, -93304.61123984659), (-39759.477085242135, -91158.4774335861), (-20722.421396197617, -81043.43905648883), (-20859.402313226874, -97839.88923413136), (-25001.033108724634, -109863.70817125513), (-40533.17932649465, -83946.56896260593), (-33984.081249812094, -72728.55840281803), (-21572.087527621683, -93315.66114124666), (-23058.11421985653, -101348.48251495631), (-36288.212863171226, -88674.44943648874), (-33332.287718872016, -82471.88468042962), (-9617.219884985358, -124317.89882744565), (-26328.988752424386, -91609.10464277654), (19906.99673021245, -136850.8912225301), (19437.655779596054, -138673.53666967), (-11686.352375280469, -86827.50752430098), (-29370.174439724553, -98596.93356624187), (-27574.02679255035, -94734.17086269542), (-42298.061425934466, -86812.65962743311), (-18901.95138082738, -97841.68844948175), (-22085.03622140197, -89804.33378836507), (-23406.23568000247, -93142.70737651194), (-29170.448185872952, -86917.6333671787), (-19768.874436320155, -90756.17160325103), (-18196.561505302943, -105690.0239213855), (-21554.3617791532, -88013.6543129041), (-23064.872118581425, -91524.8244518228), (-15589.354776304366, -114862.55865244573), (-33503.53597213991, -77762.3069079039), (-19315.483480162216, -98560.3338975811), (-31064.32549050028, -97324.07384682765), (-16295.109838152235, -85207.63163896567), (-25018.31274486091, -94348.82704005744), (-1307.9912349811996, -101294.47597277725), (-26900.390098508582, -80235.36288918897), (-29065.62447140107, -83926.82170875529), (-22405.25009388036, -93174.56239763343), (-13769.791347190898, -88632.38880585642), (-10525.043605436016, -97364.14943584526), (-35071.08168265896, -73079.53166032936), (-13758.473583730292, -89936.98430576138), (-19390.6835258632, -85508.66363805409), (-24094.00731983933, -98876.95067050312), (-34913.29767009005, -96541.29319661226), (-40992.26030697469, -91743.9727774568), (-25666.220743756774, -100234.30975419134), (-13838.583451927174, -91035.22090730863), (-22821.44360156336, -90655.19618357648), (21155.217464993606, -136447.14770335058), (-16412.83929080347, -95430.89886653546), (-8044.127981173579, -134637.0379584952), (-10619.95232612526, -79840.43357849003), (-20227.757778073807, -100071.54640546381), (-6913.434194967419, -101172.29751461135), (-34223.70392371233, -96442.68715111403), (-26478.76589509514, -86134.63210398202), (-37975.376610018444, -89138.0855494511), (5672.210712505754, -130825.88918677659), (-22363.820265883867, -91078.24553529835), (-25838.951513148528, -90391.36353095078), (-8839.566782292795, -125635.4559927299), (-22114.975221039596, -92116.18721835596), (-31123.13246788778, -82890.59204953448), (-34599.741134870106, -89292.43678019069), (-15506.242957535671, -89548.47356759009), (-21052.282657209158, -97223.77491048544), (-20479.024340678367, -89280.63795401227), (-22932.054933769825, -108650.87677427394), (20231.05924958512, -130879.03244626461), (-21957.138027798337, -95810.69585682212)]\n"
     ]
    }
   ],
   "source": [
    "coord_list= []\n",
    "for g in sample_gdf[\"geometry\"].values:\n",
    "    coord_list.append(list(g.coords)[0])\n",
    "print(coord_list)"
   ]
  },
  {
   "cell_type": "code",
   "execution_count": 50,
   "metadata": {},
   "outputs": [],
   "source": [
    "kde = gaussian_kde(coord_list, bw_method=0.05)"
   ]
  },
  {
   "cell_type": "code",
   "execution_count": null,
   "metadata": {},
   "outputs": [],
   "source": []
  }
 ],
 "metadata": {
  "kernelspec": {
   "display_name": "Python 3",
   "language": "python",
   "name": "python3"
  },
  "language_info": {
   "codemirror_mode": {
    "name": "ipython",
    "version": 3
   },
   "file_extension": ".py",
   "mimetype": "text/x-python",
   "name": "python",
   "nbconvert_exporter": "python",
   "pygments_lexer": "ipython3",
   "version": "3.8.2"
  }
 },
 "nbformat": 4,
 "nbformat_minor": 4
}
