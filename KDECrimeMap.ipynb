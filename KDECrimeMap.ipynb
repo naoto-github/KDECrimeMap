{
 "cells": [
  {
   "cell_type": "code",
   "execution_count": 1,
   "metadata": {},
   "outputs": [],
   "source": [
    "import pandas as pd\n",
    "import geopandas as gpd\n",
    "import folium\n",
    "import matplotlib.pyplot as plt\n",
    "import json\n",
    "import numpy as np\n",
    "import itertools\n",
    "from scipy.stats import gaussian_kde\n",
    "from shapely.geometry import Point\n",
    "from shapely.geometry import Polygon\n",
    "from sklearn.preprocessing import MinMaxScaler"
   ]
  },
  {
   "cell_type": "code",
   "execution_count": 155,
   "metadata": {},
   "outputs": [
    {
     "name": "stdout",
     "output_type": "stream",
     "text": [
      "45456\n"
     ]
    },
    {
     "data": {
      "text/html": [
       "<div>\n",
       "<style scoped>\n",
       "    .dataframe tbody tr th:only-of-type {\n",
       "        vertical-align: middle;\n",
       "    }\n",
       "\n",
       "    .dataframe tbody tr th {\n",
       "        vertical-align: top;\n",
       "    }\n",
       "\n",
       "    .dataframe thead th {\n",
       "        text-align: right;\n",
       "    }\n",
       "</style>\n",
       "<table border=\"1\" class=\"dataframe\">\n",
       "  <thead>\n",
       "    <tr style=\"text-align: right;\">\n",
       "      <th></th>\n",
       "      <th>id</th>\n",
       "      <th>crime</th>\n",
       "      <th>trick</th>\n",
       "      <th>police_station</th>\n",
       "      <th>police_box</th>\n",
       "      <th>city_code</th>\n",
       "      <th>prefecture</th>\n",
       "      <th>city</th>\n",
       "      <th>number</th>\n",
       "      <th>date</th>\n",
       "      <th>time</th>\n",
       "      <th>place</th>\n",
       "      <th>place_name</th>\n",
       "      <th>relevance</th>\n",
       "      <th>geometry</th>\n",
       "    </tr>\n",
       "  </thead>\n",
       "  <tbody>\n",
       "    <tr>\n",
       "      <th>0</th>\n",
       "      <td>crime-00001</td>\n",
       "      <td>窃盗</td>\n",
       "      <td>部品ねらい</td>\n",
       "      <td>西</td>\n",
       "      <td>名塚</td>\n",
       "      <td>231045</td>\n",
       "      <td>愛知県</td>\n",
       "      <td>名古屋市西区</td>\n",
       "      <td>天塚町４丁目</td>\n",
       "      <td>2019-09-11</td>\n",
       "      <td>20</td>\n",
       "      <td>その他の住宅（３階建て以下共同住宅等）</td>\n",
       "      <td>日本, 愛知県名古屋市西区天塚町4丁目</td>\n",
       "      <td>0.99</td>\n",
       "      <td>POINT (136.89271 35.20016)</td>\n",
       "    </tr>\n",
       "    <tr>\n",
       "      <th>1</th>\n",
       "      <td>crime-00002</td>\n",
       "      <td>窃盗</td>\n",
       "      <td>部品ねらい</td>\n",
       "      <td>西</td>\n",
       "      <td>名塚</td>\n",
       "      <td>231045</td>\n",
       "      <td>愛知県</td>\n",
       "      <td>名古屋市西区</td>\n",
       "      <td>上堀越町２丁目</td>\n",
       "      <td>2019-08-05</td>\n",
       "      <td>18</td>\n",
       "      <td>駐車（輪）場</td>\n",
       "      <td>日本, 愛知県名古屋市西区上堀越町2丁目</td>\n",
       "      <td>0.99</td>\n",
       "      <td>POINT (136.88114 35.20487)</td>\n",
       "    </tr>\n",
       "    <tr>\n",
       "      <th>2</th>\n",
       "      <td>crime-00003</td>\n",
       "      <td>窃盗</td>\n",
       "      <td>部品ねらい</td>\n",
       "      <td>西</td>\n",
       "      <td>名塚</td>\n",
       "      <td>231045</td>\n",
       "      <td>愛知県</td>\n",
       "      <td>名古屋市西区</td>\n",
       "      <td>上堀越町３丁目</td>\n",
       "      <td>2019-05-23</td>\n",
       "      <td>08</td>\n",
       "      <td>駐車（輪）場</td>\n",
       "      <td>日本, 愛知県名古屋市西区上堀越町3丁目</td>\n",
       "      <td>0.99</td>\n",
       "      <td>POINT (136.87985 35.20454)</td>\n",
       "    </tr>\n",
       "    <tr>\n",
       "      <th>3</th>\n",
       "      <td>crime-00004</td>\n",
       "      <td>窃盗</td>\n",
       "      <td>部品ねらい</td>\n",
       "      <td>西</td>\n",
       "      <td>名塚</td>\n",
       "      <td>231045</td>\n",
       "      <td>愛知県</td>\n",
       "      <td>名古屋市西区</td>\n",
       "      <td>香呑町１丁目</td>\n",
       "      <td>2019-03-10</td>\n",
       "      <td>17</td>\n",
       "      <td>駐車（輪）場</td>\n",
       "      <td>日本, 愛知県名古屋市西区香呑町1丁目</td>\n",
       "      <td>0.99</td>\n",
       "      <td>POINT (136.89937 35.20313)</td>\n",
       "    </tr>\n",
       "    <tr>\n",
       "      <th>4</th>\n",
       "      <td>crime-00005</td>\n",
       "      <td>窃盗</td>\n",
       "      <td>部品ねらい</td>\n",
       "      <td>西</td>\n",
       "      <td>名塚</td>\n",
       "      <td>231045</td>\n",
       "      <td>愛知県</td>\n",
       "      <td>名古屋市西区</td>\n",
       "      <td>香呑町１丁目</td>\n",
       "      <td>2019-03-11</td>\n",
       "      <td>19</td>\n",
       "      <td>駐車（輪）場</td>\n",
       "      <td>日本, 愛知県名古屋市西区香呑町1丁目</td>\n",
       "      <td>0.99</td>\n",
       "      <td>POINT (136.89937 35.20313)</td>\n",
       "    </tr>\n",
       "  </tbody>\n",
       "</table>\n",
       "</div>"
      ],
      "text/plain": [
       "            id crime  trick police_station police_box  city_code prefecture  \\\n",
       "0  crime-00001    窃盗  部品ねらい              西         名塚     231045        愛知県   \n",
       "1  crime-00002    窃盗  部品ねらい              西         名塚     231045        愛知県   \n",
       "2  crime-00003    窃盗  部品ねらい              西         名塚     231045        愛知県   \n",
       "3  crime-00004    窃盗  部品ねらい              西         名塚     231045        愛知県   \n",
       "4  crime-00005    窃盗  部品ねらい              西         名塚     231045        愛知県   \n",
       "\n",
       "     city   number        date time                place  \\\n",
       "0  名古屋市西区   天塚町４丁目  2019-09-11   20  その他の住宅（３階建て以下共同住宅等）   \n",
       "1  名古屋市西区  上堀越町２丁目  2019-08-05   18               駐車（輪）場   \n",
       "2  名古屋市西区  上堀越町３丁目  2019-05-23   08               駐車（輪）場   \n",
       "3  名古屋市西区   香呑町１丁目  2019-03-10   17               駐車（輪）場   \n",
       "4  名古屋市西区   香呑町１丁目  2019-03-11   19               駐車（輪）場   \n",
       "\n",
       "             place_name  relevance                    geometry  \n",
       "0   日本, 愛知県名古屋市西区天塚町4丁目       0.99  POINT (136.89271 35.20016)  \n",
       "1  日本, 愛知県名古屋市西区上堀越町2丁目       0.99  POINT (136.88114 35.20487)  \n",
       "2  日本, 愛知県名古屋市西区上堀越町3丁目       0.99  POINT (136.87985 35.20454)  \n",
       "3   日本, 愛知県名古屋市西区香呑町1丁目       0.99  POINT (136.89937 35.20313)  \n",
       "4   日本, 愛知県名古屋市西区香呑町1丁目       0.99  POINT (136.89937 35.20313)  "
      ]
     },
     "execution_count": 155,
     "metadata": {},
     "output_type": "execute_result"
    }
   ],
   "source": [
    "crime_gdf = gpd.read_file(\"./geojson/aichi-crime-2020.geojson\")\n",
    "print(len(crime_gdf))\n",
    "crime_gdf.head()"
   ]
  },
  {
   "cell_type": "code",
   "execution_count": 3,
   "metadata": {},
   "outputs": [
    {
     "name": "stdout",
     "output_type": "stream",
     "text": [
      "39351\n"
     ]
    }
   ],
   "source": [
    "# 信頼度0.8以上に限定\n",
    "crime_gdf = crime_gdf[crime_gdf[\"relevance\"] > 0.8]\n",
    "print(len(crime_gdf))"
   ]
  },
  {
   "cell_type": "code",
   "execution_count": 4,
   "metadata": {},
   "outputs": [],
   "source": [
    "# 直交座標系に変換\n",
    "crime_gdf = crime_gdf.to_crs(epsg=6675)"
   ]
  },
  {
   "cell_type": "code",
   "execution_count": 5,
   "metadata": {},
   "outputs": [
    {
     "data": {
      "text/plain": [
       "<matplotlib.axes._subplots.AxesSubplot at 0x129295ee0>"
      ]
     },
     "execution_count": 5,
     "metadata": {},
     "output_type": "execute_result"
    },
    {
     "data": {
      "image/png": "[encoded data removed]",
      "text/plain": [
       "<Figure size 432x288 with 1 Axes>"
      ]
     },
     "metadata": {
      "needs_background": "light"
     },
     "output_type": "display_data"
    }
   ],
   "source": [
    "crime_gdf[crime_gdf[\"relevance\"] > 0.8].plot()"
   ]
  },
  {
   "cell_type": "code",
   "execution_count": 163,
   "metadata": {},
   "outputs": [
    {
     "name": "stdout",
     "output_type": "stream",
     "text": [
      "['ひったくり' 'オートバイ盗' '自動販売機ねらい' '自動車盗' '自転車盗' '車上ねらい' '部品ねらい']\n"
     ]
    }
   ],
   "source": [
    "# 犯罪種別（trick）でグループ化\n",
    "crime_trick_gdf = crime_gdf.groupby(\"trick\").count()\n",
    "trick_list = crime_trick_gdf.index.values\n",
    "print(trick_list)"
   ]
  },
  {
   "cell_type": "code",
   "execution_count": 171,
   "metadata": {},
   "outputs": [
    {
     "name": "stdout",
     "output_type": "stream",
     "text": [
      "全体: 45456\n",
      "ひったくり: 267\n",
      "オートバイ盗: 1847\n",
      "自動販売機ねらい: 1620\n",
      "自動車盗: 2008\n",
      "自転車盗: 28059\n",
      "車上ねらい: 7070\n",
      "部品ねらい: 4585\n"
     ]
    }
   ],
   "source": [
    "# 辞書型で複数のデータフレームを記録\n",
    "crime_gdf_dict = {}\n",
    "crime_gdf_dict[\"全体\"] = crime_gdf\n",
    "\n",
    "# 犯罪種別でデータフレームを生成\n",
    "for trick in trick_list:\n",
    "    value_gdf = crime_gdf[crime_gdf[\"trick\"] == trick]\n",
    "    crime_gdf_dict[trick] = value_gdf\n",
    "    \n",
    "for key in crime_gdf_dict:\n",
    "    print(f\"{key}: {len(crime_gdf_dict[key])}\")"
   ]
  },
  {
   "cell_type": "markdown",
   "metadata": {},
   "source": [
    "## サンプルデータでカーネル密度推定"
   ]
  },
  {
   "cell_type": "code",
   "execution_count": 182,
   "metadata": {},
   "outputs": [
    {
     "data": {
      "text/plain": [
       "<matplotlib.axes._subplots.AxesSubplot at 0x123436520>"
      ]
     },
     "execution_count": 182,
     "metadata": {},
     "output_type": "execute_result"
    },
    {
     "data": {
      "image/png": "[encoded data removed]",
      "text/plain": [
       "<Figure size 432x288 with 1 Axes>"
      ]
     },
     "metadata": {
      "needs_background": "light"
     },
     "output_type": "display_data"
    }
   ],
   "source": [
    "# サンプルを抽出(n=100)\n",
    "n_sample = 100\n",
    "sample_gdf = crime_gdf.sample(n_sample)\n",
    "#display(sample_gdf)\n",
    "sample_gdf.plot()"
   ]
  },
  {
   "cell_type": "code",
   "execution_count": 183,
   "metadata": {},
   "outputs": [
    {
     "name": "stdout",
     "output_type": "stream",
     "text": [
      "(2, 100)\n"
     ]
    }
   ],
   "source": [
    "# 2次元配列に反感\n",
    "coord_list= []\n",
    "for g in sample_gdf[\"geometry\"].values:\n",
    "    coord_list.append(list(g.coords)[0])\n",
    "\n",
    "coord_list = np.array(coord_list)\n",
    "coord_list = np.transpose(coord_list)\n",
    "\n",
    "print(coord_list.shape)"
   ]
  },
  {
   "cell_type": "code",
   "execution_count": 184,
   "metadata": {},
   "outputs": [],
   "source": [
    "# カーネル密度推定\n",
    "bw_method = \"scott\"\n",
    "#bw_method = \"silverman\"\n",
    "\n",
    "kde = gaussian_kde(coord_list, bw_method=bw_method)"
   ]
  },
  {
   "cell_type": "code",
   "execution_count": 185,
   "metadata": {},
   "outputs": [
    {
     "name": "stdout",
     "output_type": "stream",
     "text": [
      "(2, 3)\n"
     ]
    },
    {
     "data": {
      "text/plain": [
       "array([0., 0., 0.])"
      ]
     },
     "execution_count": 185,
     "metadata": {},
     "output_type": "execute_result"
    }
   ],
   "source": [
    "# 任意のデータを外挿\n",
    "target_geometry = np.array([(0, 0), (1000, 1000), (-20000, -90000)])\n",
    "target_geometry = np.transpose(target_geometry)\n",
    "print(target_geometry.shape)\n",
    "kde.evaluate(target_geometry)"
   ]
  },
  {
   "cell_type": "markdown",
   "metadata": {},
   "source": [
    "## 全データでカーネル密度推定"
   ]
  },
  {
   "cell_type": "code",
   "execution_count": 10,
   "metadata": {},
   "outputs": [
    {
     "name": "stdout",
     "output_type": "stream",
     "text": [
      "(2, 39351)\n"
     ]
    }
   ],
   "source": [
    "# 2次元配列に反感\n",
    "coord_list= []\n",
    "for g in crime_gdf[\"geometry\"].values:\n",
    "    coord_list.append(list(g.coords)[0])\n",
    "\n",
    "coord_list = np.array(coord_list)\n",
    "coord_list = np.transpose(coord_list)\n",
    "\n",
    "print(coord_list.shape)"
   ]
  },
  {
   "cell_type": "code",
   "execution_count": 141,
   "metadata": {},
   "outputs": [],
   "source": [
    "# カーネル密度推定\n",
    "#bw_method = \"scott\"\n",
    "bw_method = \"silverman\"\n",
    "#bw_method = 1\n",
    "#bw_method = 10\n",
    "\n",
    "kde = gaussian_kde(coord_list, bw_method=bw_method)"
   ]
  },
  {
   "cell_type": "code",
   "execution_count": 142,
   "metadata": {},
   "outputs": [
    {
     "name": "stdout",
     "output_type": "stream",
     "text": [
      "(2, 3)\n"
     ]
    },
    {
     "data": {
      "text/plain": [
       "array([0.0000000e+00, 0.0000000e+00, 1.9002447e-09])"
      ]
     },
     "execution_count": 142,
     "metadata": {},
     "output_type": "execute_result"
    }
   ],
   "source": [
    "# 任意のデータを外挿\n",
    "target_geometry = np.array([(0, 0), (1000, 1000), (-20000, -90000)])\n",
    "target_geometry = np.transpose(target_geometry)\n",
    "print(target_geometry.shape)\n",
    "kde.evaluate(target_geometry)"
   ]
  },
  {
   "cell_type": "markdown",
   "metadata": {},
   "source": [
    "## ヒートマップの生成"
   ]
  },
  {
   "cell_type": "code",
   "execution_count": 143,
   "metadata": {},
   "outputs": [
    {
     "name": "stdout",
     "output_type": "stream",
     "text": [
      "(2, 1600)\n"
     ]
    }
   ],
   "source": [
    "n_split = 40 # 1000x1000に分割\n",
    "min_x = np.min(coord_list[0])\n",
    "max_x = np.max(coord_list[0])\n",
    "min_y = np.min(coord_list[1])\n",
    "max_y = np.max(coord_list[1])\n",
    "x_range = np.linspace(min_x, max_x, n_split)\n",
    "y_range = np.linspace(min_y, max_y, n_split)\n",
    "\n",
    "target_geometry = []\n",
    "for x, y in itertools.product(x_range, y_range):\n",
    "    target_geometry.append((x, y))\n",
    "\n",
    "target_geometry = np.array(target_geometry)\n",
    "target_geometry = np.transpose(target_geometry)\n",
    "    \n",
    "print(target_geometry.shape)"
   ]
  },
  {
   "cell_type": "code",
   "execution_count": 144,
   "metadata": {},
   "outputs": [
    {
     "name": "stdout",
     "output_type": "stream",
     "text": [
      "1600\n",
      "[1.49896127e-098 4.44567116e-089 3.55744061e-080 ... 5.74091690e-083\n",
      " 6.55701226e-093 1.64697194e-103]\n"
     ]
    }
   ],
   "source": [
    "density_list = kde.evaluate(target_geometry)\n",
    "print(len(density_list))\n",
    "print(density_list)"
   ]
  },
  {
   "cell_type": "code",
   "execution_count": 145,
   "metadata": {},
   "outputs": [
    {
     "name": "stdout",
     "output_type": "stream",
     "text": [
      "[ 97.82420959  88.35206266  79.44886234 ...  82.24101874  92.183294\n",
      " 102.7833138 ]\n",
      "[0.94748229 0.84717074 0.75288443 ... 0.78245381 0.8877441  1.        ]\n"
     ]
    }
   ],
   "source": [
    "log_density_list = np.log10(density_list)\n",
    "log_density_list = -1 * log_density_list\n",
    "print(log_density_list)\n",
    "\n",
    "mmscaler = MinMaxScaler(feature_range=(0, 1))\n",
    "log_density_list = log_density_list.reshape(-1, 1)\n",
    "mmscaler.fit(log_density_list)\n",
    "alpha = mmscaler.transform(log_density_list)\n",
    "alpha_list = alpha.reshape(1, -1)[0]\n",
    "print(alpha_list)"
   ]
  },
  {
   "cell_type": "code",
   "execution_count": 146,
   "metadata": {},
   "outputs": [
    {
     "name": "stdout",
     "output_type": "stream",
     "text": [
      "(1600, 2)\n"
     ]
    }
   ],
   "source": [
    "target_geometry = np.transpose(target_geometry)\n",
    "print(target_geometry.shape)"
   ]
  },
  {
   "cell_type": "code",
   "execution_count": 147,
   "metadata": {},
   "outputs": [
    {
     "name": "stdout",
     "output_type": "stream",
     "text": [
      "length_x=2068.294327900243 length_y=2296.2474244152254\n",
      "{'type': 'Feature', 'geometry': {'type': 'Polygon', 'coordinates': [[[-45094.12372657351, -158025.08585355704], [-43025.829398673275, -158025.08585355704], [-43025.829398673275, -155728.8384291418], [-45094.12372657351, -155728.8384291418], [-45094.12372657351, -158025.08585355704]]]}, 'properties': {'density': 1.4989612720206684e-98, 'alpha': 0.947482293409438}}\n"
     ]
    }
   ],
   "source": [
    "# GeoJSONに変換\n",
    "geojson = {\n",
    "    \"type\": \"FeatureCollection\",\n",
    "    \"features\": []\n",
    "}\n",
    "\n",
    "# ポリゴンの1辺の距離\n",
    "length_x = np.abs(x_range[1] - x_range[0])\n",
    "length_y = np.abs(y_range[1] - y_range[0])\n",
    "radius_x = length_x / 2\n",
    "radius_y = length_y / 2\n",
    "print(f\"length_x={length_x} length_y={length_y}\")\n",
    "\n",
    "features = []\n",
    "for (x,y),density,alpha in zip(target_geometry, density_list, alpha_list):\n",
    "    #print(f\"{x} {y} {density}\")\n",
    "\n",
    "    feature = {\n",
    "        \"type\": \"Feature\",\n",
    "        \"geometry\": {\n",
    "            \"type\": \"Polygon\",\n",
    "            \"coordinates\": [[[x-radius_x,  y-radius_y],[x+radius_x, y-radius_y],[x+radius_x, y+radius_y],[x-radius_x,  y+radius_y],[x-radius_x,  y-radius_y]]],\n",
    "        },\n",
    "        \"properties\": {\n",
    "            \"density\": density,\n",
    "            \"alpha\": alpha\n",
    "        }\n",
    "    }\n",
    "    \n",
    "    features.append(feature)\n",
    "    \n",
    "geojson[\"features\"] = features\n",
    "print(geojson[\"features\"][0])"
   ]
  },
  {
   "cell_type": "code",
   "execution_count": 148,
   "metadata": {},
   "outputs": [],
   "source": [
    "# GeoJSONファイルを書込\n",
    "with open(\"./geojson/crime-density-2020.geojson\", \"w\") as f:\n",
    "    json.dump(geojson, f, ensure_ascii=False)"
   ]
  },
  {
   "cell_type": "code",
   "execution_count": 149,
   "metadata": {},
   "outputs": [
    {
     "name": "stdout",
     "output_type": "stream",
     "text": [
      "1600\n"
     ]
    },
    {
     "data": {
      "text/html": [
       "<div>\n",
       "<style scoped>\n",
       "    .dataframe tbody tr th:only-of-type {\n",
       "        vertical-align: middle;\n",
       "    }\n",
       "\n",
       "    .dataframe tbody tr th {\n",
       "        vertical-align: top;\n",
       "    }\n",
       "\n",
       "    .dataframe thead th {\n",
       "        text-align: right;\n",
       "    }\n",
       "</style>\n",
       "<table border=\"1\" class=\"dataframe\">\n",
       "  <thead>\n",
       "    <tr style=\"text-align: right;\">\n",
       "      <th></th>\n",
       "      <th>density</th>\n",
       "      <th>alpha</th>\n",
       "      <th>geometry</th>\n",
       "    </tr>\n",
       "  </thead>\n",
       "  <tbody>\n",
       "    <tr>\n",
       "      <th>0</th>\n",
       "      <td>1.498961e-98</td>\n",
       "      <td>0.947482</td>\n",
       "      <td>POLYGON ((-45094.124 -158025.086, -43025.829 -...</td>\n",
       "    </tr>\n",
       "    <tr>\n",
       "      <th>1</th>\n",
       "      <td>4.445671e-89</td>\n",
       "      <td>0.847171</td>\n",
       "      <td>POLYGON ((-45094.124 -155728.838, -43025.829 -...</td>\n",
       "    </tr>\n",
       "    <tr>\n",
       "      <th>2</th>\n",
       "      <td>3.557441e-80</td>\n",
       "      <td>0.752884</td>\n",
       "      <td>POLYGON ((-45094.124 -153432.591, -43025.829 -...</td>\n",
       "    </tr>\n",
       "    <tr>\n",
       "      <th>3</th>\n",
       "      <td>6.263030e-72</td>\n",
       "      <td>0.665562</td>\n",
       "      <td>POLYGON ((-45094.124 -151136.344, -43025.829 -...</td>\n",
       "    </tr>\n",
       "    <tr>\n",
       "      <th>4</th>\n",
       "      <td>2.424863e-64</td>\n",
       "      <td>0.585205</td>\n",
       "      <td>POLYGON ((-45094.124 -148840.096, -43025.829 -...</td>\n",
       "    </tr>\n",
       "    <tr>\n",
       "      <th>...</th>\n",
       "      <td>...</td>\n",
       "      <td>...</td>\n",
       "      <td>...</td>\n",
       "    </tr>\n",
       "    <tr>\n",
       "      <th>1595</th>\n",
       "      <td>4.680564e-65</td>\n",
       "      <td>0.592770</td>\n",
       "      <td>POLYGON ((35569.355 -77656.426, 37637.649 -776...</td>\n",
       "    </tr>\n",
       "    <tr>\n",
       "      <th>1596</th>\n",
       "      <td>1.105381e-73</td>\n",
       "      <td>0.684129</td>\n",
       "      <td>POLYGON ((35569.355 -75360.179, 37637.649 -753...</td>\n",
       "    </tr>\n",
       "    <tr>\n",
       "      <th>1597</th>\n",
       "      <td>5.740917e-83</td>\n",
       "      <td>0.782454</td>\n",
       "      <td>POLYGON ((35569.355 -73063.931, 37637.649 -730...</td>\n",
       "    </tr>\n",
       "    <tr>\n",
       "      <th>1598</th>\n",
       "      <td>6.557012e-93</td>\n",
       "      <td>0.887744</td>\n",
       "      <td>POLYGON ((35569.355 -70767.684, 37637.649 -707...</td>\n",
       "    </tr>\n",
       "    <tr>\n",
       "      <th>1599</th>\n",
       "      <td>1.646972e-103</td>\n",
       "      <td>1.000000</td>\n",
       "      <td>POLYGON ((35569.355 -68471.436, 37637.649 -684...</td>\n",
       "    </tr>\n",
       "  </tbody>\n",
       "</table>\n",
       "<p>1600 rows × 3 columns</p>\n",
       "</div>"
      ],
      "text/plain": [
       "            density     alpha  \\\n",
       "0      1.498961e-98  0.947482   \n",
       "1      4.445671e-89  0.847171   \n",
       "2      3.557441e-80  0.752884   \n",
       "3      6.263030e-72  0.665562   \n",
       "4      2.424863e-64  0.585205   \n",
       "...             ...       ...   \n",
       "1595   4.680564e-65  0.592770   \n",
       "1596   1.105381e-73  0.684129   \n",
       "1597   5.740917e-83  0.782454   \n",
       "1598   6.557012e-93  0.887744   \n",
       "1599  1.646972e-103  1.000000   \n",
       "\n",
       "                                               geometry  \n",
       "0     POLYGON ((-45094.124 -158025.086, -43025.829 -...  \n",
       "1     POLYGON ((-45094.124 -155728.838, -43025.829 -...  \n",
       "2     POLYGON ((-45094.124 -153432.591, -43025.829 -...  \n",
       "3     POLYGON ((-45094.124 -151136.344, -43025.829 -...  \n",
       "4     POLYGON ((-45094.124 -148840.096, -43025.829 -...  \n",
       "...                                                 ...  \n",
       "1595  POLYGON ((35569.355 -77656.426, 37637.649 -776...  \n",
       "1596  POLYGON ((35569.355 -75360.179, 37637.649 -753...  \n",
       "1597  POLYGON ((35569.355 -73063.931, 37637.649 -730...  \n",
       "1598  POLYGON ((35569.355 -70767.684, 37637.649 -707...  \n",
       "1599  POLYGON ((35569.355 -68471.436, 37637.649 -684...  \n",
       "\n",
       "[1600 rows x 3 columns]"
      ]
     },
     "metadata": {},
     "output_type": "display_data"
    }
   ],
   "source": [
    "density_gdf = gpd.read_file(\"./geojson/crime-density-2020.geojson\")\n",
    "density_gdf = density_gdf.set_crs(epsg=6675, allow_override=True)\n",
    "print(len(density_gdf))\n",
    "display(density_gdf)"
   ]
  },
  {
   "cell_type": "code",
   "execution_count": 150,
   "metadata": {},
   "outputs": [
    {
     "data": {
      "text/plain": [
       "<Projected CRS: EPSG:6675>\n",
       "Name: JGD2011 / Japan Plane Rectangular CS VII\n",
       "Axis Info [cartesian]:\n",
       "- X[north]: Northing (metre)\n",
       "- Y[east]: Easting (metre)\n",
       "Area of Use:\n",
       "- name: Japan - onshore - Honshu between approximately 136°15'E and 137°45'E - Ishikawa-ken; Toyama-ken; Gifu-ken; Aichi-ken.\n",
       "- bounds: (136.22, 34.51, 137.84, 37.58)\n",
       "Coordinate Operation:\n",
       "- name: Japan Plane Rectangular CS zone VII\n",
       "- method: Transverse Mercator\n",
       "Datum: Japanese Geodetic Datum 2011\n",
       "- Ellipsoid: GRS 1980\n",
       "- Prime Meridian: Greenwich"
      ]
     },
     "execution_count": 150,
     "metadata": {},
     "output_type": "execute_result"
    }
   ],
   "source": [
    "# 現在のEPSGコード\n",
    "density_gdf.crs"
   ]
  },
  {
   "cell_type": "code",
   "execution_count": 151,
   "metadata": {},
   "outputs": [
    {
     "data": {
      "text/html": [
       "<div>\n",
       "<style scoped>\n",
       "    .dataframe tbody tr th:only-of-type {\n",
       "        vertical-align: middle;\n",
       "    }\n",
       "\n",
       "    .dataframe tbody tr th {\n",
       "        vertical-align: top;\n",
       "    }\n",
       "\n",
       "    .dataframe thead th {\n",
       "        text-align: right;\n",
       "    }\n",
       "</style>\n",
       "<table border=\"1\" class=\"dataframe\">\n",
       "  <thead>\n",
       "    <tr style=\"text-align: right;\">\n",
       "      <th></th>\n",
       "      <th>density</th>\n",
       "      <th>alpha</th>\n",
       "      <th>geometry</th>\n",
       "    </tr>\n",
       "  </thead>\n",
       "  <tbody>\n",
       "    <tr>\n",
       "      <th>0</th>\n",
       "      <td>1.498961e-98</td>\n",
       "      <td>0.947482</td>\n",
       "      <td>POLYGON ((136.67517 34.57452, 136.69772 34.574...</td>\n",
       "    </tr>\n",
       "    <tr>\n",
       "      <th>1</th>\n",
       "      <td>4.445671e-89</td>\n",
       "      <td>0.847171</td>\n",
       "      <td>POLYGON ((136.67505 34.59522, 136.69760 34.595...</td>\n",
       "    </tr>\n",
       "    <tr>\n",
       "      <th>2</th>\n",
       "      <td>3.557441e-80</td>\n",
       "      <td>0.752884</td>\n",
       "      <td>POLYGON ((136.67493 34.61593, 136.69748 34.616...</td>\n",
       "    </tr>\n",
       "    <tr>\n",
       "      <th>3</th>\n",
       "      <td>6.263030e-72</td>\n",
       "      <td>0.665562</td>\n",
       "      <td>POLYGON ((136.67481 34.63663, 136.69737 34.636...</td>\n",
       "    </tr>\n",
       "    <tr>\n",
       "      <th>4</th>\n",
       "      <td>2.424863e-64</td>\n",
       "      <td>0.585205</td>\n",
       "      <td>POLYGON ((136.67469 34.65733, 136.69725 34.657...</td>\n",
       "    </tr>\n",
       "    <tr>\n",
       "      <th>...</th>\n",
       "      <td>...</td>\n",
       "      <td>...</td>\n",
       "      <td>...</td>\n",
       "    </tr>\n",
       "    <tr>\n",
       "      <th>1595</th>\n",
       "      <td>4.680564e-65</td>\n",
       "      <td>0.592770</td>\n",
       "      <td>POLYGON ((137.55777 35.29939, 137.58051 35.299...</td>\n",
       "    </tr>\n",
       "    <tr>\n",
       "      <th>1596</th>\n",
       "      <td>1.105381e-73</td>\n",
       "      <td>0.684129</td>\n",
       "      <td>POLYGON ((137.55787 35.32009, 137.58062 35.320...</td>\n",
       "    </tr>\n",
       "    <tr>\n",
       "      <th>1597</th>\n",
       "      <td>5.740917e-83</td>\n",
       "      <td>0.782454</td>\n",
       "      <td>POLYGON ((137.55797 35.34079, 137.58073 35.340...</td>\n",
       "    </tr>\n",
       "    <tr>\n",
       "      <th>1598</th>\n",
       "      <td>6.557012e-93</td>\n",
       "      <td>0.887744</td>\n",
       "      <td>POLYGON ((137.55807 35.36149, 137.58083 35.361...</td>\n",
       "    </tr>\n",
       "    <tr>\n",
       "      <th>1599</th>\n",
       "      <td>1.646972e-103</td>\n",
       "      <td>1.000000</td>\n",
       "      <td>POLYGON ((137.55817 35.38218, 137.58094 35.382...</td>\n",
       "    </tr>\n",
       "  </tbody>\n",
       "</table>\n",
       "<p>1600 rows × 3 columns</p>\n",
       "</div>"
      ],
      "text/plain": [
       "            density     alpha  \\\n",
       "0      1.498961e-98  0.947482   \n",
       "1      4.445671e-89  0.847171   \n",
       "2      3.557441e-80  0.752884   \n",
       "3      6.263030e-72  0.665562   \n",
       "4      2.424863e-64  0.585205   \n",
       "...             ...       ...   \n",
       "1595   4.680564e-65  0.592770   \n",
       "1596   1.105381e-73  0.684129   \n",
       "1597   5.740917e-83  0.782454   \n",
       "1598   6.557012e-93  0.887744   \n",
       "1599  1.646972e-103  1.000000   \n",
       "\n",
       "                                               geometry  \n",
       "0     POLYGON ((136.67517 34.57452, 136.69772 34.574...  \n",
       "1     POLYGON ((136.67505 34.59522, 136.69760 34.595...  \n",
       "2     POLYGON ((136.67493 34.61593, 136.69748 34.616...  \n",
       "3     POLYGON ((136.67481 34.63663, 136.69737 34.636...  \n",
       "4     POLYGON ((136.67469 34.65733, 136.69725 34.657...  \n",
       "...                                                 ...  \n",
       "1595  POLYGON ((137.55777 35.29939, 137.58051 35.299...  \n",
       "1596  POLYGON ((137.55787 35.32009, 137.58062 35.320...  \n",
       "1597  POLYGON ((137.55797 35.34079, 137.58073 35.340...  \n",
       "1598  POLYGON ((137.55807 35.36149, 137.58083 35.361...  \n",
       "1599  POLYGON ((137.55817 35.38218, 137.58094 35.382...  \n",
       "\n",
       "[1600 rows x 3 columns]"
      ]
     },
     "metadata": {},
     "output_type": "display_data"
    }
   ],
   "source": [
    "# 緯度軽度に変換\n",
    "density_gdf = density_gdf.to_crs(epsg=4326)\n",
    "display(density_gdf)"
   ]
  },
  {
   "cell_type": "code",
   "execution_count": 152,
   "metadata": {},
   "outputs": [
    {
     "data": {
      "text/html": [
       "<div>\n",
       "<style scoped>\n",
       "    .dataframe tbody tr th:only-of-type {\n",
       "        vertical-align: middle;\n",
       "    }\n",
       "\n",
       "    .dataframe tbody tr th {\n",
       "        vertical-align: top;\n",
       "    }\n",
       "\n",
       "    .dataframe thead th {\n",
       "        text-align: right;\n",
       "    }\n",
       "</style>\n",
       "<table border=\"1\" class=\"dataframe\">\n",
       "  <thead>\n",
       "    <tr style=\"text-align: right;\">\n",
       "      <th></th>\n",
       "      <th>density</th>\n",
       "      <th>alpha</th>\n",
       "      <th>geometry</th>\n",
       "      <th>rank</th>\n",
       "    </tr>\n",
       "  </thead>\n",
       "  <tbody>\n",
       "    <tr>\n",
       "      <th>0</th>\n",
       "      <td>1.498961e-98</td>\n",
       "      <td>0.947482</td>\n",
       "      <td>POLYGON ((136.67517 34.57452, 136.69772 34.574...</td>\n",
       "      <td>1599.0</td>\n",
       "    </tr>\n",
       "    <tr>\n",
       "      <th>1</th>\n",
       "      <td>4.445671e-89</td>\n",
       "      <td>0.847171</td>\n",
       "      <td>POLYGON ((136.67505 34.59522, 136.69760 34.595...</td>\n",
       "      <td>1595.0</td>\n",
       "    </tr>\n",
       "    <tr>\n",
       "      <th>2</th>\n",
       "      <td>3.557441e-80</td>\n",
       "      <td>0.752884</td>\n",
       "      <td>POLYGON ((136.67493 34.61593, 136.69748 34.616...</td>\n",
       "      <td>1590.0</td>\n",
       "    </tr>\n",
       "    <tr>\n",
       "      <th>3</th>\n",
       "      <td>6.263030e-72</td>\n",
       "      <td>0.665562</td>\n",
       "      <td>POLYGON ((136.67481 34.63663, 136.69737 34.636...</td>\n",
       "      <td>1583.0</td>\n",
       "    </tr>\n",
       "    <tr>\n",
       "      <th>4</th>\n",
       "      <td>2.424863e-64</td>\n",
       "      <td>0.585205</td>\n",
       "      <td>POLYGON ((136.67469 34.65733, 136.69725 34.657...</td>\n",
       "      <td>1574.0</td>\n",
       "    </tr>\n",
       "    <tr>\n",
       "      <th>...</th>\n",
       "      <td>...</td>\n",
       "      <td>...</td>\n",
       "      <td>...</td>\n",
       "      <td>...</td>\n",
       "    </tr>\n",
       "    <tr>\n",
       "      <th>1595</th>\n",
       "      <td>4.680564e-65</td>\n",
       "      <td>0.592770</td>\n",
       "      <td>POLYGON ((137.55777 35.29939, 137.58051 35.299...</td>\n",
       "      <td>1576.0</td>\n",
       "    </tr>\n",
       "    <tr>\n",
       "      <th>1596</th>\n",
       "      <td>1.105381e-73</td>\n",
       "      <td>0.684129</td>\n",
       "      <td>POLYGON ((137.55787 35.32009, 137.58062 35.320...</td>\n",
       "      <td>1585.0</td>\n",
       "    </tr>\n",
       "    <tr>\n",
       "      <th>1597</th>\n",
       "      <td>5.740917e-83</td>\n",
       "      <td>0.782454</td>\n",
       "      <td>POLYGON ((137.55797 35.34079, 137.58073 35.340...</td>\n",
       "      <td>1592.0</td>\n",
       "    </tr>\n",
       "    <tr>\n",
       "      <th>1598</th>\n",
       "      <td>6.557012e-93</td>\n",
       "      <td>0.887744</td>\n",
       "      <td>POLYGON ((137.55807 35.36149, 137.58083 35.361...</td>\n",
       "      <td>1597.0</td>\n",
       "    </tr>\n",
       "    <tr>\n",
       "      <th>1599</th>\n",
       "      <td>1.646972e-103</td>\n",
       "      <td>1.000000</td>\n",
       "      <td>POLYGON ((137.55817 35.38218, 137.58094 35.382...</td>\n",
       "      <td>1600.0</td>\n",
       "    </tr>\n",
       "  </tbody>\n",
       "</table>\n",
       "<p>1600 rows × 4 columns</p>\n",
       "</div>"
      ],
      "text/plain": [
       "            density     alpha  \\\n",
       "0      1.498961e-98  0.947482   \n",
       "1      4.445671e-89  0.847171   \n",
       "2      3.557441e-80  0.752884   \n",
       "3      6.263030e-72  0.665562   \n",
       "4      2.424863e-64  0.585205   \n",
       "...             ...       ...   \n",
       "1595   4.680564e-65  0.592770   \n",
       "1596   1.105381e-73  0.684129   \n",
       "1597   5.740917e-83  0.782454   \n",
       "1598   6.557012e-93  0.887744   \n",
       "1599  1.646972e-103  1.000000   \n",
       "\n",
       "                                               geometry    rank  \n",
       "0     POLYGON ((136.67517 34.57452, 136.69772 34.574...  1599.0  \n",
       "1     POLYGON ((136.67505 34.59522, 136.69760 34.595...  1595.0  \n",
       "2     POLYGON ((136.67493 34.61593, 136.69748 34.616...  1590.0  \n",
       "3     POLYGON ((136.67481 34.63663, 136.69737 34.636...  1583.0  \n",
       "4     POLYGON ((136.67469 34.65733, 136.69725 34.657...  1574.0  \n",
       "...                                                 ...     ...  \n",
       "1595  POLYGON ((137.55777 35.29939, 137.58051 35.299...  1576.0  \n",
       "1596  POLYGON ((137.55787 35.32009, 137.58062 35.320...  1585.0  \n",
       "1597  POLYGON ((137.55797 35.34079, 137.58073 35.340...  1592.0  \n",
       "1598  POLYGON ((137.55807 35.36149, 137.58083 35.361...  1597.0  \n",
       "1599  POLYGON ((137.55817 35.38218, 137.58094 35.382...  1600.0  \n",
       "\n",
       "[1600 rows x 4 columns]"
      ]
     },
     "metadata": {},
     "output_type": "display_data"
    }
   ],
   "source": [
    "# ランクを生成\n",
    "rank_series = density_gdf[\"alpha\"].rank()\n",
    "density_gdf[\"rank\"] = rank_series\n",
    "display(density_gdf)"
   ]
  },
  {
   "cell_type": "code",
   "execution_count": 153,
   "metadata": {},
   "outputs": [],
   "source": [
    "# GeoJSON形式で保存\n",
    "path = f\"./geojson/crime-density-band-{bw_method}.js\"\n",
    "density_gdf.to_file(path, driver='GeoJSON')"
   ]
  },
  {
   "cell_type": "code",
   "execution_count": null,
   "metadata": {},
   "outputs": [],
   "source": []
  },
  {
   "cell_type": "code",
   "execution_count": null,
   "metadata": {},
   "outputs": [],
   "source": []
  }
 ],
 "metadata": {
  "kernelspec": {
   "display_name": "Python 3",
   "language": "python",
   "name": "python3"
  },
  "language_info": {
   "codemirror_mode": {
    "name": "ipython",
    "version": 3
   },
   "file_extension": ".py",
   "mimetype": "text/x-python",
   "name": "python",
   "nbconvert_exporter": "python",
   "pygments_lexer": "ipython3",
   "version": "3.8.2"
  }
 },
 "nbformat": 4,
 "nbformat_minor": 4
}
