{
 "cells": [
  {
   "cell_type": "code",
   "execution_count": 67,
   "metadata": {},
   "outputs": [],
   "source": [
    "import pandas as pd\n",
    "import geopandas as gpd\n",
    "import folium\n",
    "import matplotlib.pyplot as plt\n",
    "import json\n",
    "import numpy as np\n",
    "import itertools\n",
    "from scipy.stats import gaussian_kde\n",
    "from shapely.geometry import Point\n",
    "from shapely.geometry import Polygon"
   ]
  },
  {
   "cell_type": "code",
   "execution_count": 2,
   "metadata": {},
   "outputs": [
    {
     "name": "stdout",
     "output_type": "stream",
     "text": [
      "45456\n"
     ]
    }
   ],
   "source": [
    "crime_gdf = gpd.read_file(\"./geojson/aichi-crime-2020.geojson\")\n",
    "print(len(crime_gdf))"
   ]
  },
  {
   "cell_type": "code",
   "execution_count": 3,
   "metadata": {},
   "outputs": [
    {
     "name": "stdout",
     "output_type": "stream",
     "text": [
      "39351\n"
     ]
    }
   ],
   "source": [
    "# 信頼度0.8以上に限定\n",
    "crime_gdf = crime_gdf[crime_gdf[\"relevance\"] > 0.8]\n",
    "print(len(crime_gdf))"
   ]
  },
  {
   "cell_type": "code",
   "execution_count": 4,
   "metadata": {},
   "outputs": [],
   "source": [
    "# 直交座標系に変換\n",
    "crime_gdf = crime_gdf.to_crs(6675)"
   ]
  },
  {
   "cell_type": "code",
   "execution_count": 5,
   "metadata": {},
   "outputs": [
    {
     "data": {
      "text/plain": [
       "<matplotlib.axes._subplots.AxesSubplot at 0x12586e070>"
      ]
     },
     "execution_count": 5,
     "metadata": {},
     "output_type": "execute_result"
    },
    {
     "data": {
      "image/png": "[encoded data removed]",
      "text/plain": [
       "<Figure size 432x288 with 1 Axes>"
      ]
     },
     "metadata": {
      "needs_background": "light"
     },
     "output_type": "display_data"
    }
   ],
   "source": [
    "crime_gdf[crime_gdf[\"relevance\"] > 0.8].plot()"
   ]
  },
  {
   "cell_type": "markdown",
   "metadata": {},
   "source": [
    "## サンプルデータでカーネル密度推定"
   ]
  },
  {
   "cell_type": "code",
   "execution_count": 6,
   "metadata": {},
   "outputs": [
    {
     "data": {
      "text/plain": [
       "<matplotlib.axes._subplots.AxesSubplot at 0x125886f10>"
      ]
     },
     "execution_count": 6,
     "metadata": {},
     "output_type": "execute_result"
    },
    {
     "data": {
      "image/png": "[encoded data removed]",
      "text/plain": [
       "<Figure size 432x288 with 1 Axes>"
      ]
     },
     "metadata": {
      "needs_background": "light"
     },
     "output_type": "display_data"
    }
   ],
   "source": [
    "# サンプルを抽出(n=100)\n",
    "n_sample = 100\n",
    "sample_gdf = crime_gdf.sample(n_sample)\n",
    "#display(sample_gdf)\n",
    "sample_gdf.plot()"
   ]
  },
  {
   "cell_type": "code",
   "execution_count": 7,
   "metadata": {},
   "outputs": [
    {
     "name": "stdout",
     "output_type": "stream",
     "text": [
      "(2, 100)\n"
     ]
    }
   ],
   "source": [
    "# 2次元配列に反感\n",
    "coord_list= []\n",
    "for g in sample_gdf[\"geometry\"].values:\n",
    "    coord_list.append(list(g.coords)[0])\n",
    "\n",
    "coord_list = np.array(coord_list)\n",
    "coord_list = np.transpose(coord_list)\n",
    "\n",
    "print(coord_list.shape)"
   ]
  },
  {
   "cell_type": "code",
   "execution_count": 8,
   "metadata": {},
   "outputs": [],
   "source": [
    "# カーネル密度推定\n",
    "bw_method = \"scott\"\n",
    "#bw_method = \"silverman\"\n",
    "\n",
    "kde = gaussian_kde(coord_list, bw_method=bw_method)"
   ]
  },
  {
   "cell_type": "code",
   "execution_count": 9,
   "metadata": {},
   "outputs": [
    {
     "name": "stdout",
     "output_type": "stream",
     "text": [
      "(2, 3)\n"
     ]
    },
    {
     "data": {
      "text/plain": [
       "array([1.04630966e-83, 7.35352333e-87, 1.60306227e-09])"
      ]
     },
     "execution_count": 9,
     "metadata": {},
     "output_type": "execute_result"
    }
   ],
   "source": [
    "# 任意のデータを外挿\n",
    "target_geometry = np.array([(0, 0), (1000, 1000), (-20000, -90000)])\n",
    "target_geometry = np.transpose(target_geometry)\n",
    "print(target_geometry.shape)\n",
    "kde.evaluate(target_geometry)"
   ]
  },
  {
   "cell_type": "markdown",
   "metadata": {},
   "source": [
    "## 全データでカーネル密度推定"
   ]
  },
  {
   "cell_type": "code",
   "execution_count": 10,
   "metadata": {},
   "outputs": [
    {
     "name": "stdout",
     "output_type": "stream",
     "text": [
      "(2, 39351)\n"
     ]
    }
   ],
   "source": [
    "# 2次元配列に反感\n",
    "coord_list= []\n",
    "for g in crime_gdf[\"geometry\"].values:\n",
    "    coord_list.append(list(g.coords)[0])\n",
    "\n",
    "coord_list = np.array(coord_list)\n",
    "coord_list = np.transpose(coord_list)\n",
    "\n",
    "print(coord_list.shape)"
   ]
  },
  {
   "cell_type": "code",
   "execution_count": 11,
   "metadata": {},
   "outputs": [],
   "source": [
    "# カーネル密度推定\n",
    "bw_method = \"scott\"\n",
    "#bw_method = \"silverman\"\n",
    "\n",
    "kde = gaussian_kde(coord_list, bw_method=bw_method)"
   ]
  },
  {
   "cell_type": "code",
   "execution_count": 12,
   "metadata": {},
   "outputs": [
    {
     "name": "stdout",
     "output_type": "stream",
     "text": [
      "(2, 3)\n"
     ]
    },
    {
     "data": {
      "text/plain": [
       "array([0.0000000e+00, 0.0000000e+00, 1.9002447e-09])"
      ]
     },
     "execution_count": 12,
     "metadata": {},
     "output_type": "execute_result"
    }
   ],
   "source": [
    "# 任意のデータを外挿\n",
    "target_geometry = np.array([(0, 0), (1000, 1000), (-20000, -90000)])\n",
    "target_geometry = np.transpose(target_geometry)\n",
    "print(target_geometry.shape)\n",
    "kde.evaluate(target_geometry)"
   ]
  },
  {
   "cell_type": "markdown",
   "metadata": {},
   "source": [
    "## ヒートマップの生成"
   ]
  },
  {
   "cell_type": "code",
   "execution_count": 52,
   "metadata": {},
   "outputs": [
    {
     "name": "stdout",
     "output_type": "stream",
     "text": [
      "(2, 10000)\n"
     ]
    }
   ],
   "source": [
    "n_split = 100 # 1000x1000に分割\n",
    "min_x = np.min(coord_list[0])\n",
    "max_x = np.max(coord_list[0])\n",
    "min_y = np.min(coord_list[1])\n",
    "max_y = np.max(coord_list[1])\n",
    "x_range = np.linspace(min_x, max_x, n_split)\n",
    "y_range = np.linspace(min_y, max_y, n_split)\n",
    "\n",
    "target_geometry = []\n",
    "for x, y in itertools.product(x_range, y_range):\n",
    "    target_geometry.append((x, y))\n",
    "\n",
    "target_geometry = np.array(target_geometry)\n",
    "target_geometry = np.transpose(target_geometry)\n",
    "    \n",
    "print(target_geometry.shape)"
   ]
  },
  {
   "cell_type": "code",
   "execution_count": 53,
   "metadata": {},
   "outputs": [
    {
     "name": "stdout",
     "output_type": "stream",
     "text": [
      "10000\n"
     ]
    }
   ],
   "source": [
    "density_list = kde.evaluate(target_geometry)\n",
    "print(len(density_list))"
   ]
  },
  {
   "cell_type": "code",
   "execution_count": 54,
   "metadata": {},
   "outputs": [
    {
     "name": "stdout",
     "output_type": "stream",
     "text": [
      "(10000, 2)\n"
     ]
    }
   ],
   "source": [
    "target_geometry = np.transpose(target_geometry)\n",
    "print(target_geometry.shape)"
   ]
  },
  {
   "cell_type": "code",
   "execution_count": 92,
   "metadata": {},
   "outputs": [
    {
     "name": "stdout",
     "output_type": "stream",
     "text": [
      "length_x=814.7826140213074 length_y=904.5823187090282\n",
      "{'type': 'Feature', 'geometry': {'type': 'Polygon', 'coordinates': [[[-44467.36786963405, -157329.25330070395], [-43652.585255612736, -157329.25330070395], [-43652.585255612736, -156424.6709819949], [-44467.36786963405, -156424.6709819949], [-44467.36786963405, -157329.25330070395]]]}, 'properties': {'density': 1.4989612720206684e-98}}\n"
     ]
    }
   ],
   "source": [
    "# GeoJSONに変換\n",
    "geojson = {\n",
    "    \"type\": \"FeatureCollection\",\n",
    "    \"features\": []\n",
    "}\n",
    "\n",
    "# ポリゴンの1辺の距離\n",
    "length_x = np.abs(x_range[1] - x_range[0])\n",
    "length_y = np.abs(y_range[1] - y_range[0])\n",
    "radius_x = length_x / 2\n",
    "radius_y = length_y / 2\n",
    "print(f\"length_x={length_x} length_y={length_y}\")\n",
    "\n",
    "features = []\n",
    "for (x,y),density in zip(target_geometry, density_list):\n",
    "    #print(f\"{x} {y} {density}\")\n",
    "\n",
    "    feature = {\n",
    "        \"type\": \"Feature\",\n",
    "        \"geometry\": {\n",
    "            \"type\": \"Polygon\",\n",
    "            \"coordinates\": [[[x-radius_x,  y-radius_y],[x+radius_x, y-radius_y],[x+radius_x, y+radius_y],[x-radius_x,  y+radius_y],[x-radius_x,  y-radius_y]]],\n",
    "        },\n",
    "        \"properties\": {\n",
    "            \"density\": density,\n",
    "        }\n",
    "    }\n",
    "    \n",
    "    features.append(feature)\n",
    "    \n",
    "geojson[\"features\"] = features\n",
    "print(geojson[\"features\"][0])"
   ]
  },
  {
   "cell_type": "code",
   "execution_count": 93,
   "metadata": {},
   "outputs": [],
   "source": [
    "# GeoJSONファイルを書込\n",
    "with open(\"./geojson/crime-density-2020.geojson\", \"w\") as f:\n",
    "    json.dump(geojson, f, ensure_ascii=False)"
   ]
  },
  {
   "cell_type": "code",
   "execution_count": 98,
   "metadata": {},
   "outputs": [
    {
     "name": "stdout",
     "output_type": "stream",
     "text": [
      "10000\n"
     ]
    },
    {
     "data": {
      "text/html": [
       "<div>\n",
       "<style scoped>\n",
       "    .dataframe tbody tr th:only-of-type {\n",
       "        vertical-align: middle;\n",
       "    }\n",
       "\n",
       "    .dataframe tbody tr th {\n",
       "        vertical-align: top;\n",
       "    }\n",
       "\n",
       "    .dataframe thead th {\n",
       "        text-align: right;\n",
       "    }\n",
       "</style>\n",
       "<table border=\"1\" class=\"dataframe\">\n",
       "  <thead>\n",
       "    <tr style=\"text-align: right;\">\n",
       "      <th></th>\n",
       "      <th>density</th>\n",
       "      <th>geometry</th>\n",
       "    </tr>\n",
       "  </thead>\n",
       "  <tbody>\n",
       "    <tr>\n",
       "      <th>0</th>\n",
       "      <td>1.498961e-98</td>\n",
       "      <td>POLYGON ((-44467.36787 -157329.25330, -43652.5...</td>\n",
       "    </tr>\n",
       "    <tr>\n",
       "      <th>1</th>\n",
       "      <td>8.709786e-95</td>\n",
       "      <td>POLYGON ((-44467.36787 -156424.67098, -43652.5...</td>\n",
       "    </tr>\n",
       "    <tr>\n",
       "      <th>2</th>\n",
       "      <td>4.734890e-91</td>\n",
       "      <td>POLYGON ((-44467.36787 -155520.08866, -43652.5...</td>\n",
       "    </tr>\n",
       "    <tr>\n",
       "      <th>3</th>\n",
       "      <td>2.067897e-87</td>\n",
       "      <td>POLYGON ((-44467.36787 -154615.50634, -43652.5...</td>\n",
       "    </tr>\n",
       "    <tr>\n",
       "      <th>4</th>\n",
       "      <td>7.149516e-84</td>\n",
       "      <td>POLYGON ((-44467.36787 -153710.92403, -43652.5...</td>\n",
       "    </tr>\n",
       "    <tr>\n",
       "      <th>...</th>\n",
       "      <td>...</td>\n",
       "      <td>...</td>\n",
       "    </tr>\n",
       "    <tr>\n",
       "      <th>9995</th>\n",
       "      <td>4.181931e-87</td>\n",
       "      <td>POLYGON ((36196.11092 -71393.93302, 37010.8935...</td>\n",
       "    </tr>\n",
       "    <tr>\n",
       "      <th>9996</th>\n",
       "      <td>4.713197e-91</td>\n",
       "      <td>POLYGON ((36196.11092 -70489.35070, 37010.8935...</td>\n",
       "    </tr>\n",
       "    <tr>\n",
       "      <th>9997</th>\n",
       "      <td>4.199330e-95</td>\n",
       "      <td>POLYGON ((36196.11092 -69584.76839, 37010.8935...</td>\n",
       "    </tr>\n",
       "    <tr>\n",
       "      <th>9998</th>\n",
       "      <td>2.957810e-99</td>\n",
       "      <td>POLYGON ((36196.11092 -68680.18607, 37010.8935...</td>\n",
       "    </tr>\n",
       "    <tr>\n",
       "      <th>9999</th>\n",
       "      <td>1.646972e-103</td>\n",
       "      <td>POLYGON ((36196.11092 -67775.60375, 37010.8935...</td>\n",
       "    </tr>\n",
       "  </tbody>\n",
       "</table>\n",
       "<p>10000 rows × 2 columns</p>\n",
       "</div>"
      ],
      "text/plain": [
       "            density                                           geometry\n",
       "0      1.498961e-98  POLYGON ((-44467.36787 -157329.25330, -43652.5...\n",
       "1      8.709786e-95  POLYGON ((-44467.36787 -156424.67098, -43652.5...\n",
       "2      4.734890e-91  POLYGON ((-44467.36787 -155520.08866, -43652.5...\n",
       "3      2.067897e-87  POLYGON ((-44467.36787 -154615.50634, -43652.5...\n",
       "4      7.149516e-84  POLYGON ((-44467.36787 -153710.92403, -43652.5...\n",
       "...             ...                                                ...\n",
       "9995   4.181931e-87  POLYGON ((36196.11092 -71393.93302, 37010.8935...\n",
       "9996   4.713197e-91  POLYGON ((36196.11092 -70489.35070, 37010.8935...\n",
       "9997   4.199330e-95  POLYGON ((36196.11092 -69584.76839, 37010.8935...\n",
       "9998   2.957810e-99  POLYGON ((36196.11092 -68680.18607, 37010.8935...\n",
       "9999  1.646972e-103  POLYGON ((36196.11092 -67775.60375, 37010.8935...\n",
       "\n",
       "[10000 rows x 2 columns]"
      ]
     },
     "metadata": {},
     "output_type": "display_data"
    }
   ],
   "source": [
    "density_gdf = gpd.read_file(\"./geojson/crime-density-2020.geojson\")\n",
    "print(len(density_gdf))\n",
    "display(density_gdf)"
   ]
  },
  {
   "cell_type": "code",
   "execution_count": 101,
   "metadata": {},
   "outputs": [
    {
     "data": {
      "text/html": [
       "<div>\n",
       "<style scoped>\n",
       "    .dataframe tbody tr th:only-of-type {\n",
       "        vertical-align: middle;\n",
       "    }\n",
       "\n",
       "    .dataframe tbody tr th {\n",
       "        vertical-align: top;\n",
       "    }\n",
       "\n",
       "    .dataframe thead th {\n",
       "        text-align: right;\n",
       "    }\n",
       "</style>\n",
       "<table border=\"1\" class=\"dataframe\">\n",
       "  <thead>\n",
       "    <tr style=\"text-align: right;\">\n",
       "      <th></th>\n",
       "      <th>density</th>\n",
       "      <th>geometry</th>\n",
       "    </tr>\n",
       "  </thead>\n",
       "  <tbody>\n",
       "    <tr>\n",
       "      <th>0</th>\n",
       "      <td>1.498961e-98</td>\n",
       "      <td>POLYGON ((-44467.36787 -157329.25330, -43652.5...</td>\n",
       "    </tr>\n",
       "    <tr>\n",
       "      <th>1</th>\n",
       "      <td>8.709786e-95</td>\n",
       "      <td>POLYGON ((-44467.36787 -156424.67098, -43652.5...</td>\n",
       "    </tr>\n",
       "    <tr>\n",
       "      <th>2</th>\n",
       "      <td>4.734890e-91</td>\n",
       "      <td>POLYGON ((-44467.36787 -155520.08866, -43652.5...</td>\n",
       "    </tr>\n",
       "    <tr>\n",
       "      <th>3</th>\n",
       "      <td>2.067897e-87</td>\n",
       "      <td>POLYGON ((-44467.36787 -154615.50634, -43652.5...</td>\n",
       "    </tr>\n",
       "    <tr>\n",
       "      <th>4</th>\n",
       "      <td>7.149516e-84</td>\n",
       "      <td>POLYGON ((-44467.36787 -153710.92403, -43652.5...</td>\n",
       "    </tr>\n",
       "    <tr>\n",
       "      <th>...</th>\n",
       "      <td>...</td>\n",
       "      <td>...</td>\n",
       "    </tr>\n",
       "    <tr>\n",
       "      <th>9995</th>\n",
       "      <td>4.181931e-87</td>\n",
       "      <td>POLYGON ((36196.11092 -71393.93302, 37010.8935...</td>\n",
       "    </tr>\n",
       "    <tr>\n",
       "      <th>9996</th>\n",
       "      <td>4.713197e-91</td>\n",
       "      <td>POLYGON ((36196.11092 -70489.35070, 37010.8935...</td>\n",
       "    </tr>\n",
       "    <tr>\n",
       "      <th>9997</th>\n",
       "      <td>4.199330e-95</td>\n",
       "      <td>POLYGON ((36196.11092 -69584.76839, 37010.8935...</td>\n",
       "    </tr>\n",
       "    <tr>\n",
       "      <th>9998</th>\n",
       "      <td>2.957810e-99</td>\n",
       "      <td>POLYGON ((36196.11092 -68680.18607, 37010.8935...</td>\n",
       "    </tr>\n",
       "    <tr>\n",
       "      <th>9999</th>\n",
       "      <td>1.646972e-103</td>\n",
       "      <td>POLYGON ((36196.11092 -67775.60375, 37010.8935...</td>\n",
       "    </tr>\n",
       "  </tbody>\n",
       "</table>\n",
       "<p>10000 rows × 2 columns</p>\n",
       "</div>"
      ],
      "text/plain": [
       "            density                                           geometry\n",
       "0      1.498961e-98  POLYGON ((-44467.36787 -157329.25330, -43652.5...\n",
       "1      8.709786e-95  POLYGON ((-44467.36787 -156424.67098, -43652.5...\n",
       "2      4.734890e-91  POLYGON ((-44467.36787 -155520.08866, -43652.5...\n",
       "3      2.067897e-87  POLYGON ((-44467.36787 -154615.50634, -43652.5...\n",
       "4      7.149516e-84  POLYGON ((-44467.36787 -153710.92403, -43652.5...\n",
       "...             ...                                                ...\n",
       "9995   4.181931e-87  POLYGON ((36196.11092 -71393.93302, 37010.8935...\n",
       "9996   4.713197e-91  POLYGON ((36196.11092 -70489.35070, 37010.8935...\n",
       "9997   4.199330e-95  POLYGON ((36196.11092 -69584.76839, 37010.8935...\n",
       "9998   2.957810e-99  POLYGON ((36196.11092 -68680.18607, 37010.8935...\n",
       "9999  1.646972e-103  POLYGON ((36196.11092 -67775.60375, 37010.8935...\n",
       "\n",
       "[10000 rows x 2 columns]"
      ]
     },
     "metadata": {},
     "output_type": "display_data"
    }
   ],
   "source": [
    "# 緯度軽度に変換\n",
    "density_gdf = density_gdf.to_crs(4326)\n",
    "display(density_gdf)"
   ]
  },
  {
   "cell_type": "code",
   "execution_count": null,
   "metadata": {},
   "outputs": [],
   "source": []
  }
 ],
 "metadata": {
  "kernelspec": {
   "display_name": "Python 3",
   "language": "python",
   "name": "python3"
  },
  "language_info": {
   "codemirror_mode": {
    "name": "ipython",
    "version": 3
   },
   "file_extension": ".py",
   "mimetype": "text/x-python",
   "name": "python",
   "nbconvert_exporter": "python",
   "pygments_lexer": "ipython3",
   "version": "3.8.2"
  }
 },
 "nbformat": 4,
 "nbformat_minor": 4
}
